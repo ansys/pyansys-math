{
  "cells": [
    {
      "cell_type": "code",
      "execution_count": 1,
      "metadata": {
        "collapsed": false
      },
      "outputs": [],
      "source": [
        "%matplotlib inline"
      ]
    },
    {
      "cell_type": "markdown",
      "metadata": {},
      "source": [
        "# Manipulate APDLMath vectors or dense matrices as NumPy Arrays\n",
        "\n",
        "This example demonstrates how to exchange data between MAPDL and Python\n",
        "via numpy arrays.\n",
        "\n",
        "::: note\n",
        "::: title\n",
        "Note\n",
        ":::\n",
        "\n",
        "This example requires Ansys 2021R2.\n",
        ":::\n"
      ]
    },
    {
      "cell_type": "code",
      "execution_count": 2,
      "metadata": {
        "collapsed": false
      },
      "outputs": [],
      "source": [
        "import numpy as np\n",
        "\n",
        "import ansys.math.core.math as amath\n",
        "\n",
        "# Start Ansys Math\n",
        "mm = amath.MapdlMath()"
      ]
    },
    {
      "cell_type": "markdown",
      "metadata": {},
      "source": [
        "# Convert an APDLMath Vector into an NumPy Array\n",
        "\n",
        "First, allocate a APDLMath vector with 10 doubles\n"
      ]
    },
    {
      "cell_type": "code",
      "execution_count": 3,
      "metadata": {
        "collapsed": false
      },
      "outputs": [
        {
          "name": "stdout",
          "output_type": "stream",
          "text": [
            "GSRVXC :\n",
            " Size : 10\n",
            "  1.000e+00   1.000e+00   1.000e+00   1.000e+00   1.000e+00      <       5\n",
            "  1.000e+00   1.000e+00   1.000e+00   1.000e+00   1.000e+00      <       10\n"
          ]
        }
      ],
      "source": [
        "apdl_vec = mm.ones(10)\n",
        "print(apdl_vec)"
      ]
    },
    {
      "cell_type": "markdown",
      "metadata": {},
      "source": [
        "Then create an numpy array from this APDLMath vector.\n",
        "\n",
        "Note that these are two separate objects: memory is duplicated.\n",
        "Modifying one object does not modify its clone.\n"
      ]
    },
    {
      "cell_type": "code",
      "execution_count": 4,
      "metadata": {
        "collapsed": false
      },
      "outputs": [
        {
          "name": "stdout",
          "output_type": "stream",
          "text": [
            "[1. 1. 1. 1. 1. 1. 1. 1. 1. 1.]\n"
          ]
        }
      ],
      "source": [
        "pv = apdl_vec.asarray()\n",
        "print(pv)"
      ]
    },
    {
      "cell_type": "markdown",
      "metadata": {},
      "source": [
        "You can then manipulate this numpy array with all existing numpy\n",
        "features\n"
      ]
    },
    {
      "cell_type": "code",
      "execution_count": 5,
      "metadata": {
        "collapsed": false
      },
      "outputs": [
        {
          "name": "stdout",
          "output_type": "stream",
          "text": [
            "[4. 4. 4. 4. 4. 4. 4. 4. 4. 4.]\n"
          ]
        }
      ],
      "source": [
        "pv = (pv + 1) ** 2\n",
        "print(pv)"
      ]
    },
    {
      "cell_type": "markdown",
      "metadata": {},
      "source": [
        "Alternatively, the APDLMath object can be operated on directly with\n",
        "numpy with the numpy methods.\n"
      ]
    },
    {
      "cell_type": "code",
      "execution_count": 6,
      "metadata": {
        "collapsed": false
      },
      "outputs": [
        {
          "name": "stdout",
          "output_type": "stream",
          "text": [
            "1.0\n",
            "3.1622776601683795\n"
          ]
        }
      ],
      "source": [
        "print(np.max(apdl_vec))\n",
        "print(np.linalg.norm(apdl_vec))"
      ]
    },
    {
      "cell_type": "markdown",
      "metadata": {},
      "source": [
        "Note that some methods have APDL corollaries, and these methods are more\n",
        "efficient if performed within MAPDL.\n",
        "\n",
        "For example, the norm method can be performed within MAPDL\n"
      ]
    },
    {
      "cell_type": "code",
      "execution_count": 7,
      "metadata": {
        "collapsed": false
      },
      "outputs": [
        {
          "name": "stdout",
          "output_type": "stream",
          "text": [
            "3.1622776601683795 3.1622776601683795\n"
          ]
        }
      ],
      "source": [
        "print(apdl_vec.norm(), np.linalg.norm(apdl_vec))"
      ]
    },
    {
      "cell_type": "markdown",
      "metadata": {},
      "source": [
        "# Copy a NumPy Array to an APDLMath vector\n",
        "\n",
        "You can push back any numpy vector or 2D array to MAPDL. This creates a\n",
        "new APDLMath, which in this case is named `'NewVec'`.\n"
      ]
    },
    {
      "cell_type": "code",
      "execution_count": 8,
      "metadata": {
        "collapsed": false
      },
      "outputs": [
        {
          "name": "stdout",
          "output_type": "stream",
          "text": [
            "APDLMATH PARAMETER STATUS-  (      2 PARAMETERS DEFINED)\n",
            "\n",
            "  Name                   Type            Mem. (MB)       Dims            Workspace\n",
            "\n",
            "   GSRVXC                VEC             0.000           10              1\n",
            "   NEWVEC                VEC             0.000           10              1\n"
          ]
        }
      ],
      "source": [
        "mm.set_vec(pv, \"NewVec\")\n",
        "\n",
        "# verify this vector exists\n",
        "print(mm)"
      ]
    },
    {
      "cell_type": "markdown",
      "metadata": {},
      "source": [
        "Create a Python handle to this vector by specifying its name\n"
      ]
    },
    {
      "cell_type": "code",
      "execution_count": 9,
      "metadata": {
        "collapsed": false
      },
      "outputs": [
        {
          "name": "stdout",
          "output_type": "stream",
          "text": [
            "NEWVEC :\n",
            " Size : 10\n",
            "  4.000e+00   4.000e+00   4.000e+00   4.000e+00   4.000e+00      <       5\n",
            "  4.000e+00   4.000e+00   4.000e+00   4.000e+00   4.000e+00      <       10\n"
          ]
        }
      ],
      "source": [
        "v2 = mm.vec(name=\"NewVec\")\n",
        "print(v2)"
      ]
    },
    {
      "cell_type": "markdown",
      "metadata": {},
      "source": [
        "# Dense Numpy Arrays\n",
        "\n",
        "The same features apply to dense APDL matrices and numpy arrays.\n",
        "\n",
        "Allow allocate an APDLMath Dense Matrix and convert it to a numpy array\n"
      ]
    },
    {
      "cell_type": "code",
      "execution_count": 10,
      "metadata": {
        "collapsed": false
      },
      "outputs": [
        {
          "name": "stdout",
          "output_type": "stream",
          "text": [
            "XXUZKG: \n",
            " [1,1]: 4.170e-01 [1,2]: 9.326e-01 [1,3]: 3.023e-01 \n",
            " [2,1]: 9.972e-01 [2,2]: 1.144e-04 [2,3]: 9.990e-01 \n",
            " [3,1]: 7.203e-01 [3,2]: 1.281e-01 [3,3]: 1.468e-01\n",
            "[[4.17021999e-01 9.32557361e-01 3.02332568e-01]\n",
            " [9.97184808e-01 1.14381197e-04 9.99040516e-01]\n",
            " [7.20324489e-01 1.28124448e-01 1.46755893e-01]]\n"
          ]
        }
      ],
      "source": [
        "apdl_mat = mm.rand(3, 3)\n",
        "np_arr = apdl_mat.asarray()\n",
        "\n",
        "assert np.allclose(apdl_mat, np_arr)\n",
        "print(apdl_mat)\n",
        "print(np_arr)"
      ]
    },
    {
      "cell_type": "markdown",
      "metadata": {},
      "source": [
        "You can load numpy array to APDL with the matrix method\n"
      ]
    },
    {
      "cell_type": "code",
      "execution_count": 11,
      "metadata": {
        "collapsed": false
      },
      "outputs": [
        {
          "name": "stdout",
          "output_type": "stream",
          "text": [
            "MOCLRP\n"
          ]
        }
      ],
      "source": [
        "np_rand = np.random.random((4, 4))\n",
        "ans_mat = mm.matrix(np_rand)\n",
        "\n",
        "# print the autogenerated name of the this matrix\n",
        "print(ans_mat.id)"
      ]
    },
    {
      "cell_type": "markdown",
      "metadata": {},
      "source": [
        "Load this matrix from APDL and verify it is identical\n"
      ]
    },
    {
      "cell_type": "code",
      "execution_count": 12,
      "metadata": {
        "collapsed": false
      },
      "outputs": [
        {
          "name": "stdout",
          "output_type": "stream",
          "text": [
            "True\n"
          ]
        }
      ],
      "source": [
        "from_ans = ans_mat.asarray()\n",
        "print(np.allclose(from_ans, np_rand))"
      ]
    },
    {
      "cell_type": "markdown",
      "metadata": {},
      "source": [
        "stop mapdl\n"
      ]
    },
    {
      "cell_type": "code",
      "execution_count": 13,
      "metadata": {
        "collapsed": false
      },
      "outputs": [],
      "source": [
        "mm._mapdl.exit()"
      ]
    }
  ],
  "metadata": {
    "kernelspec": {
      "display_name": "Python 3.10.8 ('.venv': venv)",
      "language": "python",
      "name": "python3"
    },
    "language_info": {
      "codemirror_mode": {
        "name": "ipython",
        "version": 3
      },
      "file_extension": ".py",
      "mimetype": "text/x-python",
      "name": "python",
      "nbconvert_exporter": "python",
      "pygments_lexer": "ipython3",
      "version": "3.10.8"
    },
    "vscode": {
      "interpreter": {
        "hash": "55b4e27ea1d98086eff0057b32348ecc97cfb0ed34a70b9c9436e6e5951f5840"
      }
    }
  },
  "nbformat": 4,
  "nbformat_minor": 0
}
