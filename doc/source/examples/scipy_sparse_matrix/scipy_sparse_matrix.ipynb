{
  "cells": [
    {
      "cell_type": "code",
      "execution_count": null,
      "metadata": {
        "collapsed": false
      },
      "outputs": [],
      "source": [
        "%matplotlib inline"
      ]
    },
    {
      "cell_type": "markdown",
      "metadata": {},
      "source": [
        "# APDLMath Sparse Matrices and SciPy Sparse Matrices\r\n\r\nThis tutorial will show how to get APDLMath sparse matrices (typically\r\nstiffness or mass matrices extracted from APDL .Full Files) into SciPy\r\nSparse Matrices.\r\n"
      ]
    },
    {
      "cell_type": "code",
      "execution_count": null,
      "metadata": {
        "collapsed": false
      },
      "outputs": [],
      "source": [
        "import matplotlib.pylab as plt\n\nfrom ansys.mapdl.core import launch_mapdl\nfrom ansys.mapdl.core.examples import vmfiles\n\nmapdl = launch_mapdl()\nmm = mapdl.math"
      ]
    },
    {
      "cell_type": "markdown",
      "metadata": {},
      "source": [
        "Load and solve verification manual example 153. Then load the stiffness\r\nmatrix into APDLmath.\r\n"
      ]
    },
    {
      "cell_type": "code",
      "execution_count": null,
      "metadata": {
        "collapsed": false
      },
      "outputs": [],
      "source": [
        "out = mapdl.input(vmfiles[\"vm153\"])\nk = mm.stiff(fname=\"PRSMEMB.full\")\nk"
      ]
    },
    {
      "cell_type": "markdown",
      "metadata": {},
      "source": [
        "Copy this APDLMath Sparse Matrix to a SciPy CSR matrix and plot the\r\ngraph of the sparse matrix\r\n"
      ]
    },
    {
      "cell_type": "code",
      "execution_count": null,
      "metadata": {
        "collapsed": false
      },
      "outputs": [],
      "source": [
        "pk = k.asarray()\nplt.spy(pk)"
      ]
    },
    {
      "cell_type": "markdown",
      "metadata": {},
      "source": [
        "You can access the 3 vectors that describe this sparse matrix with.\r\n\r\n-   `pk.data`\r\n-   `pk.indices`\r\n-   `pk.indptr`\r\n\r\nSee the `scipy` documentation of the csr matrix at\r\n[scipy.sparse.csr_matrix](https://docs.scipy.org/doc/scipy/reference/generated/scipy.sparse.csr_matrix.html)\r\nfor additional details.\r\n"
      ]
    },
    {
      "cell_type": "code",
      "execution_count": null,
      "metadata": {
        "collapsed": false
      },
      "outputs": [],
      "source": [
        "print(pk.data[:10])\nprint(pk.indices[:10])\nprint(pk.indptr[:10])"
      ]
    },
    {
      "cell_type": "markdown",
      "metadata": {},
      "source": [
        "\\### Create a APDLMath Sparse Matrix from a SciPy Sparse CSR Matrix\r\n\r\nHere, we transfer the `scipy` CSR matrix back to MAPDL. While this\r\nexample uses a matrix that was originally within MAPDL, you can load any\r\nCSR matrix to MAPDL.\r\n"
      ]
    },
    {
      "cell_type": "code",
      "execution_count": null,
      "metadata": {
        "collapsed": false
      },
      "outputs": [],
      "source": [
        "my_mat = mm.matrix(pk, \"my_mat\", triu=True)\nmy_mat"
      ]
    },
    {
      "cell_type": "markdown",
      "metadata": {},
      "source": [
        "Check initial matrix `k` and `my_mat` are exactly the sames: We compute\r\nthe norm of the difference, should be zero\r\n"
      ]
    },
    {
      "cell_type": "code",
      "execution_count": null,
      "metadata": {
        "collapsed": false
      },
      "outputs": [],
      "source": [
        "msub = k - my_mat\nmm.norm(msub)"
      ]
    },
    {
      "cell_type": "markdown",
      "metadata": {},
      "source": [
        "# CSR Representation in MAPDL\r\n\r\nPrinting the list of objects in the MAPDL space, we find:\r\n\r\n-   2 SMAT objects, corresponding to the `k`, `MSub` matrices,\r\n-   with encrypted names\r\n-   The `my_mat` SMAT object. Its size is zero, because the 3\r\n-   vectors are stored separately\r\n-   the 3 vectors of the CSR my_mat structure: `MY_MAT_PTR`,\r\n    `MY_MAT_IND`\r\n-   and `MY_MAT_DATA`\r\n"
      ]
    },
    {
      "cell_type": "code",
      "execution_count": null,
      "metadata": {
        "collapsed": false
      },
      "outputs": [],
      "source": [
        "mm.status()"
      ]
    },
    {
      "cell_type": "markdown",
      "metadata": {},
      "source": [
        "# MAPDL Python Matrix Correspondence\r\n\r\nTo determine which MAPDL object corresponds to which Python object,\r\naccess the id property of the Python object.\r\n"
      ]
    },
    {
      "cell_type": "code",
      "execution_count": null,
      "metadata": {
        "collapsed": false
      },
      "outputs": [],
      "source": [
        "print(\"name(k)=\" + k.id)\nprint(\"name(my_mat)=\" + my_mat.id)\nprint(\"name(msub)=\" + msub.id)"
      ]
    },
    {
      "cell_type": "markdown",
      "metadata": {},
      "source": [
        "stop mapdl\r\n"
      ]
    },
    {
      "cell_type": "code",
      "execution_count": null,
      "metadata": {
        "collapsed": false
      },
      "outputs": [],
      "source": [
        "mapdl.exit()"
      ]
    }
  ],
  "metadata": {
    "kernelspec": {
      "display_name": "Python 3",
      "language": "python",
      "name": "python3"
    },
    "language_info": {
      "codemirror_mode": {
        "name": "ipython",
        "version": 3
      },
      "file_extension": ".py",
      "mimetype": "text/x-python",
      "name": "python",
      "nbconvert_exporter": "python",
      "pygments_lexer": "ipython3",
      "version": "3.10.8"
    }
  },
  "nbformat": 4,
  "nbformat_minor": 0
}