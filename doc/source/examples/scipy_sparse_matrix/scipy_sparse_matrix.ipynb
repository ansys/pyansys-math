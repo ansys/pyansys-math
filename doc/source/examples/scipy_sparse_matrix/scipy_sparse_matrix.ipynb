{
  "cells": [
    {
      "cell_type": "code",
      "execution_count": 1,
      "metadata": {
        "collapsed": false
      },
      "outputs": [],
      "source": [
        "%matplotlib inline"
      ]
    },
    {
      "cell_type": "markdown",
      "metadata": {},
      "source": [
        "# APDLMath Sparse Matrices and SciPy Sparse Matrices\n",
        "\n",
        "This tutorial will show how to get APDLMath sparse matrices (typically\n",
        "stiffness or mass matrices extracted from APDL .Full Files) into SciPy\n",
        "Sparse Matrices.\n"
      ]
    },
    {
      "cell_type": "code",
      "execution_count": 2,
      "metadata": {
        "collapsed": false
      },
      "outputs": [],
      "source": [
        "import matplotlib.pylab as plt\n",
        "\n",
        "from ansys.mapdl.core.examples import vmfiles\n",
        "import ansys.math.core.math as amath\n",
        "\n",
        "# Start Ansys Math\n",
        "mm = amath.Math()"
      ]
    },
    {
      "cell_type": "markdown",
      "metadata": {},
      "source": [
        "Load and solve verification manual example 153. Then load the stiffness\n",
        "matrix into APDLmath.\n"
      ]
    },
    {
      "cell_type": "code",
      "execution_count": 3,
      "metadata": {
        "collapsed": false
      },
      "outputs": [
        {
          "data": {
            "text/plain": [
              "Sparse APDLMath Matrix (126, 126)"
            ]
          },
          "execution_count": 3,
          "metadata": {},
          "output_type": "execute_result"
        }
      ],
      "source": [
        "out = mm._mapdl.input(vmfiles[\"vm153\"])\n",
        "k = mm.stiff(fname=\"PRSMEMB.full\")\n",
        "k"
      ]
    },
    {
      "cell_type": "markdown",
      "metadata": {},
      "source": [
        "Copy this APDLMath Sparse Matrix to a SciPy CSR matrix and plot the\n",
        "graph of the sparse matrix\n"
      ]
    },
    {
      "cell_type": "code",
      "execution_count": 4,
      "metadata": {
        "collapsed": false
      },
      "outputs": [
        {
          "data": {
            "text/plain": [
              "<matplotlib.lines.Line2D at 0x2227fd378b0>"
            ]
          },
          "execution_count": 4,
          "metadata": {},
          "output_type": "execute_result"
        },
        {
          "data": {
            "image/png": "[encoded data removed]",
            "text/plain": [
              "<Figure size 640x480 with 1 Axes>"
            ]
          },
          "metadata": {},
          "output_type": "display_data"
        }
      ],
      "source": [
        "pk = k.asarray()\n",
        "plt.spy(pk)"
      ]
    },
    {
      "cell_type": "markdown",
      "metadata": {},
      "source": [
        "You can access the 3 vectors that describe this sparse matrix with.\n",
        "\n",
        "-   `pk.data`\n",
        "-   `pk.indices`\n",
        "-   `pk.indptr`\n",
        "\n",
        "See the `scipy` documentation of the csr matrix at\n",
        "[scipy.sparse.csr_matrix](https://docs.scipy.org/doc/scipy/reference/generated/scipy.sparse.csr_matrix.html)\n",
        "for additional details.\n"
      ]
    },
    {
      "cell_type": "code",
      "execution_count": 5,
      "metadata": {
        "collapsed": false
      },
      "outputs": [
        {
          "name": "stdout",
          "output_type": "stream",
          "text": [
            "[ 0.57249304  0.56369167 -0.28624652 -0.28184583 -0.24789676 -0.24408565\n",
            " -0.14312326 -0.14092292  0.77576289 -0.37033122]\n",
            "[ 0  1  4  7 22 25 60 63  1  4]\n",
            "[ 0  8 19 31 42 49 55 60 63 73]\n"
          ]
        }
      ],
      "source": [
        "print(pk.data[:10])\n",
        "print(pk.indices[:10])\n",
        "print(pk.indptr[:10])"
      ]
    },
    {
      "cell_type": "markdown",
      "metadata": {},
      "source": [
        "\\### Create a APDLMath Sparse Matrix from a SciPy Sparse CSR Matrix\n",
        "\n",
        "Here, we transfer the `scipy` CSR matrix back to MAPDL. While this\n",
        "example uses a matrix that was originally within MAPDL, you can load any\n",
        "CSR matrix to MAPDL.\n"
      ]
    },
    {
      "cell_type": "code",
      "execution_count": 6,
      "metadata": {
        "collapsed": false
      },
      "outputs": [
        {
          "data": {
            "text/plain": [
              "Sparse APDLMath Matrix (126, 126)"
            ]
          },
          "execution_count": 6,
          "metadata": {},
          "output_type": "execute_result"
        }
      ],
      "source": [
        "my_mat = mm.matrix(pk, \"my_mat\", triu=True)\n",
        "my_mat"
      ]
    },
    {
      "cell_type": "markdown",
      "metadata": {},
      "source": [
        "Check initial matrix `k` and `my_mat` are exactly the sames: We compute\n",
        "the norm of the difference, should be zero\n"
      ]
    },
    {
      "cell_type": "code",
      "execution_count": 7,
      "metadata": {
        "collapsed": false
      },
      "outputs": [
        {
          "data": {
            "text/plain": [
              "0.0"
            ]
          },
          "execution_count": 7,
          "metadata": {},
          "output_type": "execute_result"
        }
      ],
      "source": [
        "msub = k - my_mat\n",
        "mm.norm(msub)"
      ]
    },
    {
      "cell_type": "markdown",
      "metadata": {},
      "source": [
        "# CSR Representation in MAPDL\n",
        "\n",
        "Printing the list of objects in the MAPDL space, we find:\n",
        "\n",
        "-   2 SMAT objects, corresponding to the `k`, `MSub` matrices,\n",
        "-   with encrypted names\n",
        "-   The `my_mat` SMAT object. Its size is zero, because the 3\n",
        "-   vectors are stored separately\n",
        "-   the 3 vectors of the CSR my_mat structure: `MY_MAT_PTR`,\n",
        "    `MY_MAT_IND`\n",
        "-   and `MY_MAT_DATA`\n"
      ]
    },
    {
      "cell_type": "code",
      "execution_count": 8,
      "metadata": {
        "collapsed": false
      },
      "outputs": [
        {
          "name": "stdout",
          "output_type": "stream",
          "text": [
            "APDLMATH PARAMETER STATUS-  (      6 PARAMETERS DEFINED)\n",
            "\n",
            "  Name                   Type            Mem. (MB)       Dims            Workspace\n",
            "\n",
            "   MY_MAT                SMAT            0.000           [126:126]               1\n",
            "   NOEHXO                SMAT            0.011           [126:126]               1\n",
            "   XRUCNT                SMAT            0.011           [126:126]               1\n",
            "   MY_MAT_DATA           VEC             0.006           738             1\n",
            "   MY_MAT_IND            VEC             0.001           127             1\n",
            "   MY_MAT_PTR            VEC             0.003           738             1\n"
          ]
        }
      ],
      "source": [
        "mm.status()"
      ]
    },
    {
      "cell_type": "markdown",
      "metadata": {},
      "source": [
        "# MAPDL Python Matrix Correspondence\n",
        "\n",
        "To determine which MAPDL object corresponds to which Python object,\n",
        "access the id property of the Python object.\n"
      ]
    },
    {
      "cell_type": "code",
      "execution_count": 9,
      "metadata": {
        "collapsed": false
      },
      "outputs": [
        {
          "name": "stdout",
          "output_type": "stream",
          "text": [
            "name(k)=NOEHXO\n",
            "name(my_mat)=my_mat\n",
            "name(msub)=XRUCNT\n"
          ]
        }
      ],
      "source": [
        "print(\"name(k)=\" + k.id)\n",
        "print(\"name(my_mat)=\" + my_mat.id)\n",
        "print(\"name(msub)=\" + msub.id)"
      ]
    },
    {
      "cell_type": "markdown",
      "metadata": {},
      "source": [
        "stop mapdl\n"
      ]
    },
    {
      "cell_type": "code",
      "execution_count": 11,
      "metadata": {
        "collapsed": false
      },
      "outputs": [],
      "source": [
        "mm._mapdl.exit()"
      ]
    },
    {
      "cell_type": "code",
      "execution_count": null,
      "metadata": {},
      "outputs": [],
      "source": []
    }
  ],
  "metadata": {
    "kernelspec": {
      "display_name": "Python 3.10.8 ('.venv': venv)",
      "language": "python",
      "name": "python3"
    },
    "language_info": {
      "codemirror_mode": {
        "name": "ipython",
        "version": 3
      },
      "file_extension": ".py",
      "mimetype": "text/x-python",
      "name": "python",
      "nbconvert_exporter": "python",
      "pygments_lexer": "ipython3",
      "version": "3.10.8"
    },
    "vscode": {
      "interpreter": {
        "hash": "bf638d82cb992c7aa831d859bf7561f8a1b8aa4ca0d9d2db664cf6501bcc33fa"
      }
    }
  },
  "nbformat": 4,
  "nbformat_minor": 0
}
