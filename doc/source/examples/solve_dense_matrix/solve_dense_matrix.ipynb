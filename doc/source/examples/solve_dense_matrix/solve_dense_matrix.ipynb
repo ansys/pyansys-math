{
  "cells": [
    {
      "cell_type": "code",
      "execution_count": null,
      "metadata": {
        "collapsed": false
      },
      "outputs": [],
      "source": [
        "%matplotlib inline"
      ]
    },
    {
      "cell_type": "markdown",
      "metadata": {},
      "source": [
        "# Use APDLMath to Solve a Dense Matrix Linear System\n",
        "\n",
        "Use the APDLMath module to solve a Dense Matrix Linear System.\n"
      ]
    },
    {
      "cell_type": "code",
      "execution_count": null,
      "metadata": {
        "collapsed": false
      },
      "outputs": [],
      "source": [
        "import time\n",
        "\n",
        "import numpy.linalg as npl\n",
        "\n",
        "import ansys.math.core.math as amath\n",
        "\n",
        "# Start Ansys Math\n",
        "mm = amath.Math()"
      ]
    },
    {
      "cell_type": "markdown",
      "metadata": {},
      "source": [
        "Allocate a Dense Matrix in the APDLMath workspace\n"
      ]
    },
    {
      "cell_type": "code",
      "execution_count": null,
      "metadata": {
        "collapsed": false
      },
      "outputs": [],
      "source": [
        "mm._mapdl.clear()\n",
        "dim = 1000\n",
        "a = mm.rand(dim, dim)\n",
        "b = mm.rand(dim)\n",
        "x = mm.zeros(dim)"
      ]
    },
    {
      "cell_type": "markdown",
      "metadata": {},
      "source": [
        "Copy the matrices as numpy arrays before they are modified by\n",
        "factorization call\n"
      ]
    },
    {
      "cell_type": "code",
      "execution_count": null,
      "metadata": {
        "collapsed": false
      },
      "outputs": [],
      "source": [
        "a_py = a.asarray()\n",
        "b_py = b.asarray()"
      ]
    },
    {
      "cell_type": "markdown",
      "metadata": {},
      "source": [
        "Solve using APDLMath\n"
      ]
    },
    {
      "cell_type": "code",
      "execution_count": null,
      "metadata": {
        "collapsed": false
      },
      "outputs": [],
      "source": [
        "print(f\"Solving a ({dim} x {dim}) dense linear system using MAPDL...\")\n",
        "\n",
        "t1 = time.time()\n",
        "s = mm.factorize(a)\n",
        "x = s.solve(b, x)\n",
        "t2 = time.time()\n",
        "print(f\"Elapsed time to solve the linear system using Mapdl: {t2 - t1} seconds\")"
      ]
    },
    {
      "cell_type": "markdown",
      "metadata": {},
      "source": [
        "Norm of the MAPDL Solution\n"
      ]
    },
    {
      "cell_type": "code",
      "execution_count": null,
      "metadata": {
        "collapsed": false
      },
      "outputs": [],
      "source": [
        "mm.norm(x)"
      ]
    },
    {
      "cell_type": "markdown",
      "metadata": {},
      "source": [
        "Solve the solution using numpy\n"
      ]
    },
    {
      "cell_type": "code",
      "execution_count": null,
      "metadata": {
        "collapsed": false
      },
      "outputs": [],
      "source": [
        "print(f\"Solving a ({dim} x {dim}) dense linear system using numpy...\")\n",
        "\n",
        "t1 = time.time()\n",
        "x_py = npl.solve(a_py, b_py)\n",
        "t2 = time.time()\n",
        "print(f\"Elapsed time to solve the linear system using numpy: {t2 - t1} seconds\")"
      ]
    },
    {
      "cell_type": "markdown",
      "metadata": {},
      "source": [
        "Norm of the numpy Solution\n"
      ]
    },
    {
      "cell_type": "code",
      "execution_count": null,
      "metadata": {
        "collapsed": false
      },
      "outputs": [],
      "source": [
        "npl.norm(x_py)"
      ]
    },
    {
      "cell_type": "markdown",
      "metadata": {},
      "source": [
        "Stop mapdl\n"
      ]
    },
    {
      "cell_type": "code",
      "execution_count": null,
      "metadata": {
        "collapsed": false
      },
      "outputs": [],
      "source": [
        "mm._mapdl.exit()"
      ]
    }
  ],
  "metadata": {
    "kernelspec": {
      "display_name": "Python 3.10.8 ('.venv': venv)",
      "language": "python",
      "name": "python3"
    },
    "language_info": {
      "codemirror_mode": {
        "name": "ipython",
        "version": 3
      },
      "file_extension": ".py",
      "mimetype": "text/x-python",
      "name": "python",
      "nbconvert_exporter": "python",
      "pygments_lexer": "ipython3",
      "version": "3.10.8"
    },
    "vscode": {
      "interpreter": {
        "hash": "bf638d82cb992c7aa831d859bf7561f8a1b8aa4ca0d9d2db664cf6501bcc33fa"
      }
    }
  },
  "nbformat": 4,
  "nbformat_minor": 0
}
