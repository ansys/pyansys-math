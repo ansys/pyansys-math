{
  "cells": [
    {
      "cell_type": "code",
      "execution_count": null,
      "metadata": {
        "collapsed": false
      },
      "outputs": [],
      "source": [
        "%matplotlib inline"
      ]
    },
    {
      "cell_type": "markdown",
      "metadata": {},
      "source": [
        "# PyMAPDL APDLMath Basic Operations {#ref_mapdl_math_basic}\n",
        "\n",
        "This tutorial shows how you can use pymapdl to use APDL math for basic\n",
        "operations on APDLMath vectors and matrices in the APDL memory\n",
        "workspace.\n",
        "\n",
        "The [ansys.mapdl.math]{.title-ref} submodule gives access to APDLMath\n",
        "features inside PyMAPDL.\n"
      ]
    },
    {
      "cell_type": "code",
      "execution_count": null,
      "metadata": {
        "collapsed": false
      },
      "outputs": [],
      "source": [
        "import numpy as np\n",
        "\n",
        "from ansys.math.core.math import launch_math\n",
        "\n",
        "# Start MAPDL as a service and create an APDLMath object.\n",
        "mapdl = launch_mapdl()\n",
        "mm = mapdl.math"
      ]
    },
    {
      "cell_type": "markdown",
      "metadata": {},
      "source": [
        "# Create and Manipulate Vectors\n",
        "\n",
        "Create 2 APDLMath vectors of size 5. $\\vec{v}$ is initialized with ones,\n",
        "\\$vec{w}\\$ is filled with random values\n",
        "\n",
        "Corresponding APDLMath commands - [\\*VEC,V,D,ALLOC,5]{.title-ref} -\n",
        "[\\*INIT,V,CONST,1]{.title-ref} - [\\*VEC,W,D,ALLOC,5]{.title-ref} -\n",
        "[\\*INIT,W,RAND]{.title-ref}\n"
      ]
    },
    {
      "cell_type": "code",
      "execution_count": null,
      "metadata": {
        "collapsed": false
      },
      "outputs": [],
      "source": [
        "v = mm.ones(5)\n",
        "w = mm.rand(5)\n",
        "print(w)"
      ]
    },
    {
      "cell_type": "markdown",
      "metadata": {},
      "source": [
        "# Use operators on vectors\n",
        "\n",
        "Just like [numpy]{.title-ref} PyMAPDL APDLMath vectors can be have most\n",
        "of the standard operators (e.g. `+, -, +=, -=, *=`)\n",
        "\n",
        "Here we form $\\vec{z}=\\vec{v}+\\vec{w}$\n",
        "\n",
        "Then we compute $\\|z\\|_2$ (the default [norm]{.title-ref} is nrm2, but\n",
        "you can use [.norm(\\'nrm1\\')]{.title-ref} or\n",
        "[.norm(\\'nrminf\\')]{.title-ref} for different normals. See\n",
        "[help(z.norm)]{.title-ref} for additional details.\n",
        "\n",
        "APDLMath Commands: - [\\*VEC,Z,D,COPY,V]{.title-ref} -\n",
        "[\\*AXPY,1,,W,1,,Z]{.title-ref} - [\\*NRM,Z,,nrmval]{.title-ref}\n"
      ]
    },
    {
      "cell_type": "code",
      "execution_count": null,
      "metadata": {
        "collapsed": false
      },
      "outputs": [],
      "source": [
        "z = v + w\n",
        "z.norm()"
      ]
    },
    {
      "cell_type": "markdown",
      "metadata": {},
      "source": [
        "# Methods\n",
        "\n",
        "Alternatively you can use methods, following the numpy standards.\n",
        "Available methods are:\n",
        "\n",
        "-   [mm.add()]{.title-ref}\n",
        "-   [mm.subtract()]{.title-ref}\n",
        "-   [mm.dot()]{.title-ref}\n",
        "\n",
        "Equivalent operator: [z = v + w]{.title-ref}\n",
        "\n",
        "Equivalent APDLMath Commands: - [\\*VEC,Z,D,COPY,V]{.title-ref} -\n",
        "[\\*AXPY,1,,W,1,,Z]{.title-ref}\n"
      ]
    },
    {
      "cell_type": "code",
      "execution_count": null,
      "metadata": {
        "collapsed": false
      },
      "outputs": [],
      "source": [
        "z = mm.add(v, w)\n",
        "z.norm()"
      ]
    },
    {
      "cell_type": "markdown",
      "metadata": {},
      "source": [
        "Subtraction\n",
        "\n",
        "Equivalent operator: z = v - w\n",
        "\n",
        "Equivalent APDLMath Commands: - [\\*VEC,Z,D,COPY,V]{.title-ref} -\n",
        "[\\*AXPY,-1,,W,1,,Z]{.title-ref}\n"
      ]
    },
    {
      "cell_type": "code",
      "execution_count": null,
      "metadata": {
        "collapsed": false
      },
      "outputs": [],
      "source": [
        "z = mm.subtract(v, w)\n",
        "print(z)"
      ]
    },
    {
      "cell_type": "markdown",
      "metadata": {},
      "source": [
        "Dot product of 2 vectors\n",
        "\n",
        "Equivalent APDLMath Command: [\\*DOT,V,W,dotval]{.title-ref}\n"
      ]
    },
    {
      "cell_type": "code",
      "execution_count": null,
      "metadata": {
        "collapsed": false
      },
      "outputs": [],
      "source": [
        "vw = mm.dot(v, w)\n",
        "print(\"Dot product :\", str(vw))"
      ]
    },
    {
      "cell_type": "markdown",
      "metadata": {},
      "source": [
        "# Perform an in-place operations (without copying vectors)\n",
        "\n",
        "In-Place Addition\n",
        "\n",
        "MAPDL Commands: - [\\*AXPY,1,,V,1,,Z]{.title-ref} -\n",
        "[\\*PRINT,Z]{.title-ref}\n"
      ]
    },
    {
      "cell_type": "code",
      "execution_count": null,
      "metadata": {
        "collapsed": false
      },
      "outputs": [],
      "source": [
        "v += v\n",
        "print(v)"
      ]
    },
    {
      "cell_type": "markdown",
      "metadata": {},
      "source": [
        "In-Place Multiplication\n",
        "\n",
        "MAPDL Command: [\\*SCAL,v,2]{.title-ref}\n"
      ]
    },
    {
      "cell_type": "code",
      "execution_count": null,
      "metadata": {
        "collapsed": false
      },
      "outputs": [],
      "source": [
        "v *= 2\n",
        "print(v)"
      ]
    },
    {
      "cell_type": "markdown",
      "metadata": {},
      "source": [
        "In-Place Multiplication\n"
      ]
    },
    {
      "cell_type": "code",
      "execution_count": null,
      "metadata": {
        "collapsed": false
      },
      "outputs": [],
      "source": [
        "v /= 2.0\n",
        "print(v)"
      ]
    },
    {
      "cell_type": "markdown",
      "metadata": {},
      "source": [
        "# Working with Dense Matrices\n",
        "\n",
        "Allocate two dense matrices with random values.\n",
        "\n",
        "MAPDL Commands:\n",
        "\n",
        "-   [\\*DMAT,m1,D,ALLOC,4,5]{.title-ref}\n",
        "-   [\\*INIT,m1,RAND]{.title-ref}\n",
        "-   [\\*DMAT,m1,D,ALLOC,4,5]{.title-ref}\n",
        "-   [\\*INIT,m1,CONST,1]{.title-ref}\n"
      ]
    },
    {
      "cell_type": "code",
      "execution_count": null,
      "metadata": {
        "collapsed": false
      },
      "outputs": [],
      "source": [
        "m1 = mm.rand(4, 5)\n",
        "m2 = mm.ones(4, 5)\n",
        "m1, m2"
      ]
    },
    {
      "cell_type": "markdown",
      "metadata": {},
      "source": [
        "**Add** these 2 dense matrices, and **scale** the result matrix.\n",
        "\n",
        "Mapdl Commands - [\\*DMAT,m3,D,COPY,m1]{.title-ref} -\n",
        "[\\*AXPY,1,,m2,1,,m3]{.title-ref}\n"
      ]
    },
    {
      "cell_type": "code",
      "execution_count": null,
      "metadata": {
        "collapsed": false
      },
      "outputs": [],
      "source": [
        "m3 = m1 + m2\n",
        "print(m3)\n",
        "\n",
        "m3 *= 2\n",
        "print(m3)"
      ]
    },
    {
      "cell_type": "markdown",
      "metadata": {},
      "source": [
        "**\\*Transpose**\\* a Matrix\n"
      ]
    },
    {
      "cell_type": "code",
      "execution_count": null,
      "metadata": {
        "collapsed": false
      },
      "outputs": [],
      "source": [
        "m4 = m3.T\n",
        "print(m4)"
      ]
    },
    {
      "cell_type": "markdown",
      "metadata": {},
      "source": [
        "As for vectors, methods are also available as an alternative to\n",
        "operators.\n"
      ]
    },
    {
      "cell_type": "code",
      "execution_count": null,
      "metadata": {
        "collapsed": false
      },
      "outputs": [],
      "source": [
        "m3 = mm.add(m1, m2)\n",
        "print(m3)"
      ]
    },
    {
      "cell_type": "markdown",
      "metadata": {},
      "source": [
        "Compute a matrix vector multiplication\n"
      ]
    },
    {
      "cell_type": "code",
      "execution_count": null,
      "metadata": {
        "collapsed": false
      },
      "outputs": [],
      "source": [
        "mw = m3.dot(m4)\n",
        "print(mw)"
      ]
    },
    {
      "cell_type": "markdown",
      "metadata": {},
      "source": [
        "APDLMath matrices can be identified by printing, viewing their types, or\n",
        "with using the [\\_\\_repr\\_\\_]{.title-ref} method by simply typing out\n",
        "the variable\n",
        "\n",
        "# APDLMath Matrix\n"
      ]
    },
    {
      "cell_type": "code",
      "execution_count": null,
      "metadata": {
        "collapsed": false
      },
      "outputs": [],
      "source": [
        "type(m1)\n",
        "print(m1)\n",
        "m1"
      ]
    },
    {
      "cell_type": "markdown",
      "metadata": {},
      "source": [
        "APDLMath Vector\n"
      ]
    },
    {
      "cell_type": "code",
      "execution_count": null,
      "metadata": {
        "collapsed": false
      },
      "outputs": [],
      "source": [
        "type(w)\n",
        "print(w)\n",
        "w"
      ]
    },
    {
      "cell_type": "markdown",
      "metadata": {},
      "source": [
        "# Numpy methods on APDLMath objects\n",
        "\n",
        "Regardless of the underlying APDLMath object type, you are generally\n",
        "able to perform most numpy or scipy operations on these arrays. You can\n",
        "do this one of two ways. First, you can convert a matrix to a numpy\n",
        "array:\n"
      ]
    },
    {
      "cell_type": "code",
      "execution_count": null,
      "metadata": {
        "collapsed": false
      },
      "outputs": [],
      "source": [
        "apdl_mat = mm.rand(5, 5)\n",
        "np_mat = apdl_mat.asarray()\n",
        "print(np_mat)"
      ]
    },
    {
      "cell_type": "markdown",
      "metadata": {},
      "source": [
        "Alternatively, you can simply use numpy to compute the max of the array\n",
        "\n",
        "This works because PyMAPDL copies over the matrix to the local python\n",
        "memory and then computes the max using numpy.\n"
      ]
    },
    {
      "cell_type": "code",
      "execution_count": null,
      "metadata": {
        "collapsed": false
      },
      "outputs": [],
      "source": [
        "print(np.max(apdl_mat))"
      ]
    },
    {
      "cell_type": "markdown",
      "metadata": {},
      "source": [
        "This works for most numpy operations, but keep in mind that operations\n",
        "that are supported within MAPDL (such as adding or multiplying arrays)\n",
        "will compute much faster as the data is not copied.\n"
      ]
    },
    {
      "cell_type": "code",
      "execution_count": null,
      "metadata": {
        "collapsed": false
      },
      "outputs": [],
      "source": [
        "apdl_arr = mm.rand(5, 5)\n",
        "np_array = apdl_mat.asarray()\n",
        "print(np.allclose(apdl_mat, np_array))"
      ]
    },
    {
      "cell_type": "markdown",
      "metadata": {},
      "source": [
        "stop mapdl\n"
      ]
    },
    {
      "cell_type": "code",
      "execution_count": null,
      "metadata": {
        "collapsed": false
      },
      "outputs": [],
      "source": [
        "mapdl.exit()"
      ]
    }
  ],
  "metadata": {
    "kernelspec": {
      "display_name": "Python 3.10.8 64-bit",
      "language": "python",
      "name": "python3"
    },
    "language_info": {
      "codemirror_mode": {
        "name": "ipython",
        "version": 3
      },
      "file_extension": ".py",
      "mimetype": "text/x-python",
      "name": "python",
      "nbconvert_exporter": "python",
      "pygments_lexer": "ipython3",
      "version": "3.10.8"
    },
    "vscode": {
      "interpreter": {
        "hash": "2a8dfe095fce2b5e88c64a2c3ee084c8e0e0d70b23e7b95b1cfb538be294c5c8"
      }
    }
  },
  "nbformat": 4,
  "nbformat_minor": 0
}
