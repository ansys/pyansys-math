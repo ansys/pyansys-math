{
  "cells": [
    {
      "cell_type": "code",
      "execution_count": 6,
      "metadata": {
        "collapsed": false
      },
      "outputs": [],
      "source": [
        "%matplotlib inline"
      ]
    },
    {
      "cell_type": "markdown",
      "metadata": {},
      "source": [
        "# PyMAPDL APDLMath Basic Operations {#ref_mapdl_math_basic}\n",
        "\n",
        "This tutorial shows how you can use pymapdl to use APDL math for basic\n",
        "operations on APDLMath vectors and matrices in the APDL memory\n",
        "workspace.\n",
        "\n",
        "The [ansys.mapdl.math]{.title-ref} submodule gives access to APDLMath\n",
        "features inside PyMAPDL.\n"
      ]
    },
    {
      "cell_type": "code",
      "execution_count": 7,
      "metadata": {
        "collapsed": false
      },
      "outputs": [],
      "source": [
        "import numpy as np\n",
        "\n",
        "import ansys.math.core.math as amath\n",
        "\n",
        "# Start Ansys Math as a service.\n",
        "mm = amath.Math()"
      ]
    },
    {
      "cell_type": "markdown",
      "metadata": {},
      "source": [
        "# Create and Manipulate Vectors\n",
        "\n",
        "Create 2 APDLMath vectors of size 5. $\\vec{v}$ is initialized with ones,\n",
        "\\$vec{w}\\$ is filled with random values\n",
        "\n",
        "Corresponding APDLMath commands - [\\*VEC,V,D,ALLOC,5]{.title-ref} -\n",
        "[\\*INIT,V,CONST,1]{.title-ref} - [\\*VEC,W,D,ALLOC,5]{.title-ref} -\n",
        "[\\*INIT,W,RAND]{.title-ref}\n"
      ]
    },
    {
      "cell_type": "code",
      "execution_count": 8,
      "metadata": {
        "collapsed": false
      },
      "outputs": [
        {
          "name": "stdout",
          "output_type": "stream",
          "text": [
            "GRULEJ :\n",
            " Size : 5\n",
            "  4.170e-01   9.972e-01   7.203e-01   9.326e-01   1.144e-04      <       5\n"
          ]
        }
      ],
      "source": [
        "v = mm.ones(5)\n",
        "w = mm.rand(5)\n",
        "print(w)"
      ]
    },
    {
      "cell_type": "markdown",
      "metadata": {},
      "source": [
        "# Use operators on vectors\n",
        "\n",
        "Just like [numpy]{.title-ref} PyMAPDL APDLMath vectors can be have most\n",
        "of the standard operators (e.g. `+, -, +=, -=, *=`)\n",
        "\n",
        "Here we form $\\vec{z}=\\vec{v}+\\vec{w}$\n",
        "\n",
        "Then we compute $\\|z\\|_2$ (the default [norm]{.title-ref} is nrm2, but\n",
        "you can use [.norm(\\'nrm1\\')]{.title-ref} or\n",
        "[.norm(\\'nrminf\\')]{.title-ref} for different normals. See\n",
        "[help(z.norm)]{.title-ref} for additional details.\n",
        "\n",
        "APDLMath Commands: - [\\*VEC,Z,D,COPY,V]{.title-ref} -\n",
        "[\\*AXPY,1,,W,1,,Z]{.title-ref} - [\\*NRM,Z,,nrmval]{.title-ref}\n"
      ]
    },
    {
      "cell_type": "code",
      "execution_count": 9,
      "metadata": {
        "collapsed": false
      },
      "outputs": [
        {
          "data": {
            "text/plain": [
              "3.7001650749377593"
            ]
          },
          "execution_count": 9,
          "metadata": {},
          "output_type": "execute_result"
        }
      ],
      "source": [
        "z = v + w\n",
        "z.norm()"
      ]
    },
    {
      "cell_type": "markdown",
      "metadata": {},
      "source": [
        "# Methods\n",
        "\n",
        "Alternatively you can use methods, following the numpy standards.\n",
        "Available methods are:\n",
        "\n",
        "-   [mm.add()]{.title-ref}\n",
        "-   [mm.subtract()]{.title-ref}\n",
        "-   [mm.dot()]{.title-ref}\n",
        "\n",
        "Equivalent operator: [z = v + w]{.title-ref}\n",
        "\n",
        "Equivalent APDLMath Commands: - [\\*VEC,Z,D,COPY,V]{.title-ref} -\n",
        "[\\*AXPY,1,,W,1,,Z]{.title-ref}\n"
      ]
    },
    {
      "cell_type": "code",
      "execution_count": 10,
      "metadata": {
        "collapsed": false
      },
      "outputs": [
        {
          "data": {
            "text/plain": [
              "3.7001650749377593"
            ]
          },
          "execution_count": 10,
          "metadata": {},
          "output_type": "execute_result"
        }
      ],
      "source": [
        "z = mm.add(v, w)\n",
        "z.norm()"
      ]
    },
    {
      "cell_type": "markdown",
      "metadata": {},
      "source": [
        "Subtraction\n",
        "\n",
        "Equivalent operator: z = v - w\n",
        "\n",
        "Equivalent APDLMath Commands: - [\\*VEC,Z,D,COPY,V]{.title-ref} -\n",
        "[\\*AXPY,-1,,W,1,,Z]{.title-ref}\n"
      ]
    },
    {
      "cell_type": "code",
      "execution_count": 11,
      "metadata": {
        "collapsed": false
      },
      "outputs": [
        {
          "name": "stdout",
          "output_type": "stream",
          "text": [
            "CASYHH :\n",
            " Size : 5\n",
            "  5.830e-01   2.815e-03   2.797e-01   6.744e-02   9.999e-01      <       5\n"
          ]
        }
      ],
      "source": [
        "z = mm.subtract(v, w)\n",
        "print(z)"
      ]
    },
    {
      "cell_type": "markdown",
      "metadata": {},
      "source": [
        "Dot product of 2 vectors\n",
        "\n",
        "Equivalent APDLMath Command: [\\*DOT,V,W,dotval]{.title-ref}\n"
      ]
    },
    {
      "cell_type": "code",
      "execution_count": 12,
      "metadata": {
        "collapsed": false
      },
      "outputs": [
        {
          "name": "stdout",
          "output_type": "stream",
          "text": [
            "Dot product : 3.0672030387213454\n"
          ]
        }
      ],
      "source": [
        "vw = mm.dot(v, w)\n",
        "print(\"Dot product :\", str(vw))"
      ]
    },
    {
      "cell_type": "markdown",
      "metadata": {},
      "source": [
        "# Perform an in-place operations (without copying vectors)\n",
        "\n",
        "In-Place Addition\n",
        "\n",
        "MAPDL Commands: - [\\*AXPY,1,,V,1,,Z]{.title-ref} -\n",
        "[\\*PRINT,Z]{.title-ref}\n"
      ]
    },
    {
      "cell_type": "code",
      "execution_count": 13,
      "metadata": {
        "collapsed": false
      },
      "outputs": [
        {
          "name": "stdout",
          "output_type": "stream",
          "text": [
            "HSXVEV :\n",
            " Size : 5\n",
            "  2.000e+00   2.000e+00   2.000e+00   2.000e+00   2.000e+00      <       5\n"
          ]
        }
      ],
      "source": [
        "v += v\n",
        "print(v)"
      ]
    },
    {
      "cell_type": "markdown",
      "metadata": {},
      "source": [
        "In-Place Multiplication\n",
        "\n",
        "MAPDL Command: [\\*SCAL,v,2]{.title-ref}\n"
      ]
    },
    {
      "cell_type": "code",
      "execution_count": 14,
      "metadata": {
        "collapsed": false
      },
      "outputs": [
        {
          "name": "stdout",
          "output_type": "stream",
          "text": [
            "HSXVEV :\n",
            " Size : 5\n",
            "  4.000e+00   4.000e+00   4.000e+00   4.000e+00   4.000e+00      <       5\n"
          ]
        }
      ],
      "source": [
        "v *= 2\n",
        "print(v)"
      ]
    },
    {
      "cell_type": "markdown",
      "metadata": {},
      "source": [
        "In-Place Multiplication\n"
      ]
    },
    {
      "cell_type": "code",
      "execution_count": 15,
      "metadata": {
        "collapsed": false
      },
      "outputs": [
        {
          "name": "stdout",
          "output_type": "stream",
          "text": [
            "HSXVEV :\n",
            " Size : 5\n",
            "  2.000e+00   2.000e+00   2.000e+00   2.000e+00   2.000e+00      <       5\n"
          ]
        }
      ],
      "source": [
        "v /= 2.0\n",
        "print(v)"
      ]
    },
    {
      "cell_type": "markdown",
      "metadata": {},
      "source": [
        "# Working with Dense Matrices\n",
        "\n",
        "Allocate two dense matrices with random values.\n",
        "\n",
        "MAPDL Commands:\n",
        "\n",
        "-   [\\*DMAT,m1,D,ALLOC,4,5]{.title-ref}\n",
        "-   [\\*INIT,m1,RAND]{.title-ref}\n",
        "-   [\\*DMAT,m1,D,ALLOC,4,5]{.title-ref}\n",
        "-   [\\*INIT,m1,CONST,1]{.title-ref}\n"
      ]
    },
    {
      "cell_type": "code",
      "execution_count": 16,
      "metadata": {
        "collapsed": false
      },
      "outputs": [
        {
          "data": {
            "text/plain": [
              "(Dense APDLMath Matrix (4, 5), Dense APDLMath Matrix (4, 5))"
            ]
          },
          "execution_count": 16,
          "metadata": {},
          "output_type": "execute_result"
        }
      ],
      "source": [
        "m1 = mm.rand(4, 5)\n",
        "m2 = mm.ones(4, 5)\n",
        "m1, m2"
      ]
    },
    {
      "cell_type": "markdown",
      "metadata": {},
      "source": [
        "**Add** these 2 dense matrices, and **scale** the result matrix.\n",
        "\n",
        "Mapdl Commands - [\\*DMAT,m3,D,COPY,m1]{.title-ref} -\n",
        "[\\*AXPY,1,,m2,1,,m3]{.title-ref}\n"
      ]
    },
    {
      "cell_type": "code",
      "execution_count": 17,
      "metadata": {
        "collapsed": false
      },
      "outputs": [
        {
          "name": "stdout",
          "output_type": "stream",
          "text": [
            "TLGDZW: \n",
            " [1,1]: 1.417e+00 [1,2]: 1.000e+00 [1,3]: 1.147e+00 [1,4]: 1.186e+00 [1,5]: 1.397e+00 \n",
            " [2,1]: 1.997e+00 [2,2]: 1.128e+00 [2,3]: 1.236e+00 [2,4]: 1.388e+00 [2,5]: 1.936e+00 \n",
            " [3,1]: 1.720e+00 [3,2]: 1.302e+00 [3,3]: 1.092e+00 [3,4]: 1.346e+00 [3,5]: 1.539e+00 \n",
            " [4,1]: 1.933e+00 [4,2]: 1.999e+00 [4,3]: 1.397e+00 [4,4]: 1.670e+00 [4,5]: 1.846e+00\n",
            "TLGDZW: \n",
            " [1,1]: 2.834e+00 [1,2]: 2.000e+00 [1,3]: 2.294e+00 [1,4]: 2.373e+00 [1,5]: 2.794e+00 \n",
            " [2,1]: 3.994e+00 [2,2]: 2.256e+00 [2,3]: 2.472e+00 [2,4]: 2.776e+00 [2,5]: 3.871e+00 \n",
            " [3,1]: 3.441e+00 [3,2]: 2.605e+00 [3,3]: 2.185e+00 [3,4]: 2.691e+00 [3,5]: 3.078e+00 \n",
            " [4,1]: 3.865e+00 [4,2]: 3.998e+00 [4,3]: 2.793e+00 [4,4]: 3.339e+00 [4,5]: 3.693e+00\n"
          ]
        }
      ],
      "source": [
        "m3 = m1 + m2\n",
        "print(m3)\n",
        "\n",
        "m3 *= 2\n",
        "print(m3)"
      ]
    },
    {
      "cell_type": "markdown",
      "metadata": {},
      "source": [
        "**\\*Transpose**\\* a Matrix\n"
      ]
    },
    {
      "cell_type": "code",
      "execution_count": 18,
      "metadata": {
        "collapsed": false
      },
      "outputs": [
        {
          "name": "stdout",
          "output_type": "stream",
          "text": [
            "LDUTAF: \n",
            " [1,1]: 2.834e+00 [1,2]: 3.994e+00 [1,3]: 3.441e+00 [1,4]: 3.865e+00 \n",
            " [2,1]: 2.000e+00 [2,2]: 2.256e+00 [2,3]: 2.605e+00 [2,4]: 3.998e+00 \n",
            " [3,1]: 2.294e+00 [3,2]: 2.472e+00 [3,3]: 2.185e+00 [3,4]: 2.793e+00 \n",
            " [4,1]: 2.373e+00 [4,2]: 2.776e+00 [4,3]: 2.691e+00 [4,4]: 3.339e+00 \n",
            " [5,1]: 2.794e+00 [5,2]: 3.871e+00 [5,3]: 3.078e+00 [5,4]: 3.693e+00\n"
          ]
        }
      ],
      "source": [
        "m4 = m3.T\n",
        "print(m4)"
      ]
    },
    {
      "cell_type": "markdown",
      "metadata": {},
      "source": [
        "As for vectors, methods are also available as an alternative to\n",
        "operators.\n"
      ]
    },
    {
      "cell_type": "code",
      "execution_count": 19,
      "metadata": {
        "collapsed": false
      },
      "outputs": [
        {
          "name": "stdout",
          "output_type": "stream",
          "text": [
            "DGHDIA: \n",
            " [1,1]: 1.417e+00 [1,2]: 1.000e+00 [1,3]: 1.147e+00 [1,4]: 1.186e+00 [1,5]: 1.397e+00 \n",
            " [2,1]: 1.997e+00 [2,2]: 1.128e+00 [2,3]: 1.236e+00 [2,4]: 1.388e+00 [2,5]: 1.936e+00 \n",
            " [3,1]: 1.720e+00 [3,2]: 1.302e+00 [3,3]: 1.092e+00 [3,4]: 1.346e+00 [3,5]: 1.539e+00 \n",
            " [4,1]: 1.933e+00 [4,2]: 1.999e+00 [4,3]: 1.397e+00 [4,4]: 1.670e+00 [4,5]: 1.846e+00\n"
          ]
        }
      ],
      "source": [
        "m3 = mm.add(m1, m2)\n",
        "print(m3)"
      ]
    },
    {
      "cell_type": "markdown",
      "metadata": {},
      "source": [
        "Compute a matrix vector multiplication\n"
      ]
    },
    {
      "cell_type": "code",
      "execution_count": 20,
      "metadata": {
        "collapsed": false
      },
      "outputs": [
        {
          "name": "stdout",
          "output_type": "stream",
          "text": [
            "FIHCGW: \n",
            " [1,1]: 1.536e+01 [1,2]: 1.945e+01 [1,3]: 1.748e+01 [1,4]: 2.180e+01 \n",
            " [2,1]: 1.945e+01 [2,2]: 2.492e+01 [2,3]: 2.220e+01 [2,4]: 2.746e+01 \n",
            " [3,1]: 1.748e+01 [3,2]: 2.220e+01 [3,3]: 2.005e+01 [3,4]: 2.508e+01 \n",
            " [4,1]: 2.180e+01 [4,2]: 2.746e+01 [4,3]: 2.508e+01 [4,4]: 3.176e+01\n"
          ]
        }
      ],
      "source": [
        "mw = m3.dot(m4)\n",
        "print(mw)"
      ]
    },
    {
      "cell_type": "markdown",
      "metadata": {},
      "source": [
        "APDLMath matrices can be identified by printing, viewing their types, or\n",
        "with using the [\\_\\_repr\\_\\_]{.title-ref} method by simply typing out\n",
        "the variable\n",
        "\n",
        "# APDLMath Matrix\n"
      ]
    },
    {
      "cell_type": "code",
      "execution_count": 21,
      "metadata": {
        "collapsed": false
      },
      "outputs": [
        {
          "name": "stdout",
          "output_type": "stream",
          "text": [
            "PAFSQB: \n",
            " [1,1]: 4.170e-01 [1,2]: 1.144e-04 [1,3]: 1.468e-01 [1,4]: 1.863e-01 [1,5]: 3.968e-01 \n",
            " [2,1]: 9.972e-01 [2,2]: 1.281e-01 [2,3]: 2.361e-01 [2,4]: 3.879e-01 [2,5]: 9.355e-01 \n",
            " [3,1]: 7.203e-01 [3,2]: 3.023e-01 [3,3]: 9.234e-02 [3,4]: 3.456e-01 [3,5]: 5.388e-01 \n",
            " [4,1]: 9.326e-01 [4,2]: 9.990e-01 [4,3]: 3.966e-01 [4,4]: 6.697e-01 [4,5]: 8.463e-01\n"
          ]
        },
        {
          "data": {
            "text/plain": [
              "Dense APDLMath Matrix (4, 5)"
            ]
          },
          "execution_count": 21,
          "metadata": {},
          "output_type": "execute_result"
        }
      ],
      "source": [
        "type(m1)\n",
        "print(m1)\n",
        "m1"
      ]
    },
    {
      "cell_type": "markdown",
      "metadata": {},
      "source": [
        "APDLMath Vector\n"
      ]
    },
    {
      "cell_type": "code",
      "execution_count": 22,
      "metadata": {
        "collapsed": false
      },
      "outputs": [
        {
          "name": "stdout",
          "output_type": "stream",
          "text": [
            "GRULEJ :\n",
            " Size : 5\n",
            "  4.170e-01   9.972e-01   7.203e-01   9.326e-01   1.144e-04      <       5\n"
          ]
        },
        {
          "data": {
            "text/plain": [
              "APDLMath Vector Size 5"
            ]
          },
          "execution_count": 22,
          "metadata": {},
          "output_type": "execute_result"
        }
      ],
      "source": [
        "type(w)\n",
        "print(w)\n",
        "w"
      ]
    },
    {
      "cell_type": "markdown",
      "metadata": {},
      "source": [
        "# Numpy methods on APDLMath objects\n",
        "\n",
        "Regardless of the underlying APDLMath object type, you are generally\n",
        "able to perform most numpy or scipy operations on these arrays. You can\n",
        "do this one of two ways. First, you can convert a matrix to a numpy\n",
        "array:\n"
      ]
    },
    {
      "cell_type": "code",
      "execution_count": 23,
      "metadata": {
        "collapsed": false
      },
      "outputs": [
        {
          "name": "stdout",
          "output_type": "stream",
          "text": [
            "[[4.17021999e-01 1.28124448e-01 9.23385957e-02 6.69746040e-01\n",
            "  4.19194519e-01]\n",
            " [9.97184808e-01 3.02332568e-01 3.96580726e-01 3.96767469e-01\n",
            "  3.13273513e-01]\n",
            " [7.20324489e-01 9.99040516e-01 1.86260211e-01 9.35539073e-01\n",
            "  6.85219501e-01]\n",
            " [9.32557361e-01 1.46755893e-01 3.87910740e-01 5.38816732e-01\n",
            "  5.24548163e-01]\n",
            " [1.14381197e-04 2.36088976e-01 3.45560725e-01 8.46310918e-01\n",
            "  2.04452249e-01]]\n"
          ]
        }
      ],
      "source": [
        "apdl_mat = mm.rand(5, 5)\n",
        "np_mat = apdl_mat.asarray()\n",
        "print(np_mat)"
      ]
    },
    {
      "cell_type": "markdown",
      "metadata": {},
      "source": [
        "Alternatively, you can simply use numpy to compute the max of the array\n",
        "\n",
        "This works because PyMAPDL copies over the matrix to the local python\n",
        "memory and then computes the max using numpy.\n"
      ]
    },
    {
      "cell_type": "code",
      "execution_count": 24,
      "metadata": {
        "collapsed": false
      },
      "outputs": [
        {
          "name": "stdout",
          "output_type": "stream",
          "text": [
            "0.9990405155112967\n"
          ]
        }
      ],
      "source": [
        "print(np.max(apdl_mat))"
      ]
    },
    {
      "cell_type": "markdown",
      "metadata": {},
      "source": [
        "This works for most numpy operations, but keep in mind that operations\n",
        "that are supported within MAPDL (such as adding or multiplying arrays)\n",
        "will compute much faster as the data is not copied.\n"
      ]
    },
    {
      "cell_type": "code",
      "execution_count": 25,
      "metadata": {
        "collapsed": false
      },
      "outputs": [
        {
          "name": "stdout",
          "output_type": "stream",
          "text": [
            "True\n"
          ]
        }
      ],
      "source": [
        "apdl_arr = mm.rand(5, 5)\n",
        "np_array = apdl_mat.asarray()\n",
        "print(np.allclose(apdl_mat, np_array))"
      ]
    },
    {
      "cell_type": "markdown",
      "metadata": {},
      "source": [
        "stop mapdl\n"
      ]
    },
    {
      "cell_type": "code",
      "execution_count": 26,
      "metadata": {
        "collapsed": false
      },
      "outputs": [],
      "source": [
        "mm._mapdl.exit()"
      ]
    }
  ],
  "metadata": {
    "kernelspec": {
      "display_name": "Python 3.10.8 ('.venv': venv)",
      "language": "python",
      "name": "python3"
    },
    "language_info": {
      "codemirror_mode": {
        "name": "ipython",
        "version": 3
      },
      "file_extension": ".py",
      "mimetype": "text/x-python",
      "name": "python",
      "nbconvert_exporter": "python",
      "pygments_lexer": "ipython3",
      "version": "3.10.8"
    },
    "vscode": {
      "interpreter": {
        "hash": "bf638d82cb992c7aa831d859bf7561f8a1b8aa4ca0d9d2db664cf6501bcc33fa"
      }
    }
  },
  "nbformat": 4,
  "nbformat_minor": 0
}
