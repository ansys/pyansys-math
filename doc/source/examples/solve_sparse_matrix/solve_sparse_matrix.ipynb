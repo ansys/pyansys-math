{
  "cells": [
    {
      "cell_type": "code",
      "execution_count": 1,
      "metadata": {
        "collapsed": false
      },
      "outputs": [],
      "source": [
        "%matplotlib inline"
      ]
    },
    {
      "cell_type": "markdown",
      "metadata": {},
      "source": [
        "# Performing Sparse Factorization and Solve Operations\n",
        "\n",
        "Using APDLMath, you can solve linear systems of equations based on\n",
        "sparse or dense matrices.\n"
      ]
    },
    {
      "cell_type": "code",
      "execution_count": 3,
      "metadata": {
        "collapsed": false
      },
      "outputs": [],
      "source": [
        "from ansys.mapdl.core.examples import vmfiles\n",
        "import ansys.math.core.math as amath\n",
        "\n",
        "# Start Ansys Math\n",
        "mm = amath.Math()"
      ]
    },
    {
      "cell_type": "markdown",
      "metadata": {},
      "source": [
        "# Factorize and Solve Sparse Linear Systems\n",
        "\n",
        "First, run a MAPDL solve to create a .full file We use a model from the\n",
        "official verification manual.\n",
        "\n",
        "After a solve command, the full contains the assemblied stiffness\n",
        "matrix, mass matrix, and the load vector.\n"
      ]
    },
    {
      "cell_type": "code",
      "execution_count": 4,
      "metadata": {
        "collapsed": false
      },
      "outputs": [],
      "source": [
        "out = mm._mapdl.input(vmfiles[\"vm153\"])"
      ]
    },
    {
      "cell_type": "markdown",
      "metadata": {},
      "source": [
        "List the files in current directory\n"
      ]
    },
    {
      "cell_type": "code",
      "execution_count": 5,
      "metadata": {
        "collapsed": false
      },
      "outputs": [
        {
          "data": {
            "text/plain": [
              "['.__tmp__.inp',\n",
              " '.__tmp__.out',\n",
              " 'cleanup-ansys-AAPGBKIlFqYCCBP-12984.bat',\n",
              " 'file.lock',\n",
              " 'file0.bat',\n",
              " 'file0.err',\n",
              " 'file0.log',\n",
              " 'file0.page',\n",
              " 'file1.err',\n",
              " 'file1.log',\n",
              " 'file1.out',\n",
              " 'file1.page',\n",
              " 'PRSMEMB.DSP',\n",
              " 'PRSMEMB.emat',\n",
              " 'PRSMEMB.esav',\n",
              " 'PRSMEMB.full',\n",
              " 'PRSMEMB.mntr',\n",
              " 'PRSMEMB.mode',\n",
              " 'PRSMEMB.rst',\n",
              " 'PRSMEMB0.emat',\n",
              " 'PRSMEMB0.esav',\n",
              " 'PRSMEMB0.full',\n",
              " 'PRSMEMB0.mode',\n",
              " 'PRSMEMB0.rst',\n",
              " 'PRSMEMB000.jpg',\n",
              " 'PRSMEMB001.jpg',\n",
              " 'PRSMEMB002.jpg',\n",
              " 'PRSMEMB003.jpg',\n",
              " 'PRSMEMB1.emat',\n",
              " 'PRSMEMB1.esav',\n",
              " 'PRSMEMB1.full',\n",
              " 'PRSMEMB1.mode',\n",
              " 'PRSMEMB1.rst',\n",
              " 'SCRATCH',\n",
              " 'SOLVIT.MAC',\n",
              " 'TABLE_1',\n",
              " 'TABLE_2',\n",
              " 'vm153.vrt',\n",
              " '_input_tmp_pnvxoehygh_.inp',\n",
              " '_input_tmp_pnvxoehygh_.out']"
            ]
          },
          "execution_count": 5,
          "metadata": {},
          "output_type": "execute_result"
        }
      ],
      "source": [
        "mm._mapdl.list_files()"
      ]
    },
    {
      "cell_type": "markdown",
      "metadata": {},
      "source": [
        "Extract the Stiffness matrix from the `FULL` file, in a sparse matrix\n",
        "format.\n",
        "\n",
        "You can get help on the stiff function with `help(mm.stiff)`\n",
        "\n",
        "Printout the dimensions of this Sparse Matrix\n"
      ]
    },
    {
      "cell_type": "code",
      "execution_count": 6,
      "metadata": {
        "collapsed": false
      },
      "outputs": [
        {
          "data": {
            "text/plain": [
              "Sparse APDLMath Matrix (126, 126)"
            ]
          },
          "execution_count": 6,
          "metadata": {},
          "output_type": "execute_result"
        }
      ],
      "source": [
        "k = mm.stiff(fname=\"PRSMEMB.full\")\n",
        "k"
      ]
    },
    {
      "cell_type": "markdown",
      "metadata": {},
      "source": [
        "Get a copy of the K Sparse Matrix as a Numpy Array\n"
      ]
    },
    {
      "cell_type": "code",
      "execution_count": 7,
      "metadata": {
        "collapsed": false
      },
      "outputs": [
        {
          "data": {
            "text/plain": [
              "<126x126 sparse matrix of type '<class 'numpy.float64'>'\n",
              "\twith 738 stored elements in Compressed Sparse Row format>"
            ]
          },
          "execution_count": 7,
          "metadata": {},
          "output_type": "execute_result"
        }
      ],
      "source": [
        "ky = k.asarray()\n",
        "ky"
      ]
    },
    {
      "cell_type": "markdown",
      "metadata": {},
      "source": [
        "Extract the load vector from the `FULL` file.\n",
        "\n",
        "Printout the norm of this vector.\n"
      ]
    },
    {
      "cell_type": "code",
      "execution_count": 8,
      "metadata": {
        "collapsed": false
      },
      "outputs": [
        {
          "data": {
            "text/plain": [
              "3.472960080375275e-05"
            ]
          },
          "execution_count": 8,
          "metadata": {},
          "output_type": "execute_result"
        }
      ],
      "source": [
        "b = mm.rhs(fname=\"PRSMEMB.full\")\n",
        "b.norm()"
      ]
    },
    {
      "cell_type": "markdown",
      "metadata": {},
      "source": [
        "Get a copy of the load vector as a numpy array\n"
      ]
    },
    {
      "cell_type": "code",
      "execution_count": 9,
      "metadata": {
        "collapsed": false
      },
      "outputs": [],
      "source": [
        "by = b.asarray()"
      ]
    },
    {
      "cell_type": "markdown",
      "metadata": {},
      "source": [
        "Factorize the Stifness Matrix using the MAPDL DSPARSE solver\n"
      ]
    },
    {
      "cell_type": "code",
      "execution_count": 10,
      "metadata": {
        "collapsed": false
      },
      "outputs": [],
      "source": [
        "s = mm.factorize(k)"
      ]
    },
    {
      "cell_type": "markdown",
      "metadata": {},
      "source": [
        "Solve the linear system\n"
      ]
    },
    {
      "cell_type": "code",
      "execution_count": 11,
      "metadata": {
        "collapsed": false
      },
      "outputs": [],
      "source": [
        "x = s.solve(b)"
      ]
    },
    {
      "cell_type": "markdown",
      "metadata": {},
      "source": [
        "Print the **norm** of the solution vector\n"
      ]
    },
    {
      "cell_type": "code",
      "execution_count": 12,
      "metadata": {
        "collapsed": false
      },
      "outputs": [
        {
          "data": {
            "text/plain": [
              "5.815928297029957e-08"
            ]
          },
          "execution_count": 12,
          "metadata": {},
          "output_type": "execute_result"
        }
      ],
      "source": [
        "x.norm()"
      ]
    },
    {
      "cell_type": "markdown",
      "metadata": {},
      "source": [
        "We check the accuracy of the solution, by verifying that\n",
        "\n",
        "$KX - B = 0$\n"
      ]
    },
    {
      "cell_type": "code",
      "execution_count": 13,
      "metadata": {
        "collapsed": false
      },
      "outputs": [
        {
          "name": "stdout",
          "output_type": "stream",
          "text": [
            "Residual error: 1.8484795505161723e-15\n"
          ]
        }
      ],
      "source": [
        "kx = k.dot(x)\n",
        "kx -= b\n",
        "print(\"Residual error:\", kx.norm() / b.norm())"
      ]
    },
    {
      "cell_type": "markdown",
      "metadata": {},
      "source": [
        "Summary of all allocated APDLMath Objects\n"
      ]
    },
    {
      "cell_type": "code",
      "execution_count": 14,
      "metadata": {
        "collapsed": false
      },
      "outputs": [
        {
          "name": "stdout",
          "output_type": "stream",
          "text": [
            "APDLMATH PARAMETER STATUS-  (      5 PARAMETERS DEFINED)\n",
            "\n",
            "  Name                   Type            Mem. (MB)       Dims            Workspace\n",
            "\n",
            "   UYNGYE                SMAT            0.011           [126:126]               1\n",
            "   ETYLGF                VEC             0.001           126             1\n",
            "   IOPHZT                VEC             0.001           126             1\n",
            "   WSNEXG                VEC             0.001           126             1\n",
            "   RTNEBZ                LSENGINE        --              --              1\n"
          ]
        }
      ],
      "source": [
        "mm.status()"
      ]
    },
    {
      "cell_type": "markdown",
      "metadata": {},
      "source": [
        "Delete all APDLMath Objects\n"
      ]
    },
    {
      "cell_type": "code",
      "execution_count": 15,
      "metadata": {
        "collapsed": false
      },
      "outputs": [],
      "source": [
        "mm.free()"
      ]
    },
    {
      "cell_type": "markdown",
      "metadata": {},
      "source": [
        "Stop mapdl\n"
      ]
    },
    {
      "cell_type": "code",
      "execution_count": 16,
      "metadata": {
        "collapsed": false
      },
      "outputs": [],
      "source": [
        "mm._mapdl.exit()"
      ]
    },
    {
      "cell_type": "code",
      "execution_count": null,
      "metadata": {},
      "outputs": [],
      "source": []
    }
  ],
  "metadata": {
    "kernelspec": {
      "display_name": "Python 3.10.8 ('.venv': venv)",
      "language": "python",
      "name": "python3"
    },
    "language_info": {
      "codemirror_mode": {
        "name": "ipython",
        "version": 3
      },
      "file_extension": ".py",
      "mimetype": "text/x-python",
      "name": "python",
      "nbconvert_exporter": "python",
      "pygments_lexer": "ipython3",
      "version": "3.10.8"
    },
    "vscode": {
      "interpreter": {
        "hash": "55b4e27ea1d98086eff0057b32348ecc97cfb0ed34a70b9c9436e6e5951f5840"
      }
    }
  },
  "nbformat": 4,
  "nbformat_minor": 0
}
