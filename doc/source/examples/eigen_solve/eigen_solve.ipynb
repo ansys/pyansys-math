{
  "cells": [
    {
      "cell_type": "code",
      "execution_count": 1,
      "metadata": {
        "collapsed": false
      },
      "outputs": [],
      "source": [
        "%matplotlib inline"
      ]
    },
    {
      "cell_type": "markdown",
      "metadata": {},
      "source": [
        "# Using APDLMath to solve Eigenproblems {#ref_mapdl_math_eigen_solve}\n",
        "\n",
        "Use APDLMath to solve eigenproblems.\n",
        "\n",
        "This example uses a verification manual input file, but you can use your\n",
        "own sparse or dense matrices and solve those.\n"
      ]
    },
    {
      "cell_type": "code",
      "execution_count": 3,
      "metadata": {
        "collapsed": false
      },
      "outputs": [],
      "source": [
        "import time\n",
        "\n",
        "import matplotlib.pylab as plt\n",
        "import numpy as np\n",
        "\n",
        "from ansys.mapdl.core.examples import vmfiles\n",
        "\n",
        "import ansys.math.core.math as amath\n",
        "\n",
        "# Start Ansys Math\n",
        "mm = amath.Math()"
      ]
    },
    {
      "cell_type": "markdown",
      "metadata": {},
      "source": [
        "First we get the [STIFF]{.title-ref} and [MASS]{.title-ref} matrices\n",
        "from the full file after running the input file from Verification Manual\n",
        "153\n"
      ]
    },
    {
      "cell_type": "code",
      "execution_count": 4,
      "metadata": {
        "collapsed": false
      },
      "outputs": [],
      "source": [
        "out = mm._mapdl.input(vmfiles[\"vm153\"])\n",
        "\n",
        "k = mm.stiff(fname=\"PRSMEMB.full\")\n",
        "m = mm.mass(fname=\"PRSMEMB.full\")"
      ]
    },
    {
      "cell_type": "markdown",
      "metadata": {},
      "source": [
        "Display size of the M and K matrices\n"
      ]
    },
    {
      "cell_type": "code",
      "execution_count": 5,
      "metadata": {
        "collapsed": false
      },
      "outputs": [
        {
          "name": "stdout",
          "output_type": "stream",
          "text": [
            "(126, 126)\n",
            "(126, 126)\n"
          ]
        }
      ],
      "source": [
        "print(m.shape)\n",
        "print(k.shape)"
      ]
    },
    {
      "cell_type": "markdown",
      "metadata": {},
      "source": [
        "Allocate an array to store the eigenshapes. where [nev]{.title-ref} is\n",
        "the number of eigenvalues requested\n"
      ]
    },
    {
      "cell_type": "code",
      "execution_count": 6,
      "metadata": {
        "collapsed": false
      },
      "outputs": [
        {
          "data": {
            "text/plain": [
              "Dense APDLMath Matrix (126, 10)"
            ]
          },
          "execution_count": 6,
          "metadata": {},
          "output_type": "execute_result"
        }
      ],
      "source": [
        "nev = 10\n",
        "a = mm.mat(k.nrow, nev)\n",
        "a"
      ]
    },
    {
      "cell_type": "markdown",
      "metadata": {},
      "source": [
        "Perform the the modal analysis.\n",
        "\n",
        "The algorithm is automatically chosen with respect to the matrices\n",
        "properties (e.g. scalar, storage, symmetry\\...)\n"
      ]
    },
    {
      "cell_type": "code",
      "execution_count": 7,
      "metadata": {
        "collapsed": false
      },
      "outputs": [
        {
          "name": "stdout",
          "output_type": "stream",
          "text": [
            "Calling MAPDL to solve the eigenproblem...\n",
            "Elapsed time to solve this problem: 0.3018631935119629\n"
          ]
        }
      ],
      "source": [
        "print(\"Calling MAPDL to solve the eigenproblem...\")\n",
        "\n",
        "t1 = time.time()\n",
        "ev = mm.eigs(nev, k, m, phi=a)\n",
        "print(f\"Elapsed time to solve this problem: {time.time() - t1}\")"
      ]
    },
    {
      "cell_type": "markdown",
      "metadata": {},
      "source": [
        "This is the vector of eigenfrequencies.\n"
      ]
    },
    {
      "cell_type": "code",
      "execution_count": 8,
      "metadata": {
        "collapsed": false
      },
      "outputs": [
        {
          "name": "stdout",
          "output_type": "stream",
          "text": [
            "EXWXEZ :\n",
            " Size : 10\n",
            "  3.381e+02   3.381e+02   6.266e+02   6.266e+02   9.283e+02      <       5\n",
            "  9.283e+02   1.250e+03   1.250e+03   1.424e+03   1.424e+03      <       10\n"
          ]
        }
      ],
      "source": [
        "print(ev)"
      ]
    },
    {
      "cell_type": "markdown",
      "metadata": {},
      "source": [
        "# Verify the accuracy of eigenresults\n",
        "\n",
        "Check the residual error for the first eigenresult\n",
        "$R_1=||(K-\\lambda_1.M).\\phi_1||_2$\n",
        "\n",
        "First, we compute $\\lambda_1 = \\omega_1^2 = (2.\\pi.f_1)^2$\n"
      ]
    },
    {
      "cell_type": "code",
      "execution_count": 9,
      "metadata": {
        "collapsed": false
      },
      "outputs": [],
      "source": [
        "# Eigenfrequency (Hz)\n",
        "i = 0\n",
        "f = ev[0]\n",
        "omega = 2 * np.pi * f\n",
        "lam = omega * omega"
      ]
    },
    {
      "cell_type": "markdown",
      "metadata": {},
      "source": [
        "Then we get the 1st Eigenshape $\\phi_1$, and compute $K.\\phi_1$ and\n",
        "$M.\\phi_1$\n"
      ]
    },
    {
      "cell_type": "code",
      "execution_count": 10,
      "metadata": {
        "collapsed": false
      },
      "outputs": [],
      "source": [
        "# shape\n",
        "phi = a[0]\n",
        "\n",
        "# APDL Command: *MULT,K,,Phi,,KPhi\n",
        "kphi = k.dot(phi)\n",
        "\n",
        "# APDL Command: *MULT,M,,Phi,,MPhi\n",
        "mphi = m.dot(phi)"
      ]
    },
    {
      "cell_type": "markdown",
      "metadata": {},
      "source": [
        "Next, compute the $||K.\\phi_1||_2$ quantity and normalize the residual\n",
        "value.\n"
      ]
    },
    {
      "cell_type": "code",
      "execution_count": 11,
      "metadata": {
        "collapsed": false
      },
      "outputs": [],
      "source": [
        "# APDL Command: *MULT,K,,Phi,,KPhi\n",
        "kphi = k.dot(phi)\n",
        "\n",
        "\n",
        "# APDL Command: *NRM,KPhi,NRM2,KPhiNrm\n",
        "kphinrm = kphi.norm()"
      ]
    },
    {
      "cell_type": "markdown",
      "metadata": {},
      "source": [
        "Then we add these two vectors, using the $\\lambda_1$ scalar factor and\n",
        "finally compute the normalized residual value\n",
        "$\\frac{R_1}{||K.\\phi_1||_2}$\n"
      ]
    },
    {
      "cell_type": "code",
      "execution_count": 12,
      "metadata": {
        "collapsed": false
      },
      "outputs": [
        {
          "name": "stdout",
          "output_type": "stream",
          "text": [
            "3.9254968987643776e-11\n"
          ]
        }
      ],
      "source": [
        "# APDL Command: *AXPY,-lambda,,MPhi,1,,KPhi\n",
        "mphi *= lam\n",
        "kphi -= mphi\n",
        "\n",
        "# Compute the residual\n",
        "res = kphi.norm() / kphinrm\n",
        "print(res)"
      ]
    },
    {
      "cell_type": "markdown",
      "metadata": {},
      "source": [
        "This residual can be computed for all eigenmodes\n"
      ]
    },
    {
      "cell_type": "code",
      "execution_count": 13,
      "metadata": {
        "collapsed": false
      },
      "outputs": [
        {
          "name": "stdout",
          "output_type": "stream",
          "text": [
            "[0] : Freq = 338.0666635506365\t - Residual = 3.9254968987643776e-11\n",
            "[1] : Freq = 338.06666355063675\t - Residual = 2.8245012411841358e-11\n",
            "[2] : Freq = 626.6450980927033\t - Residual = 1.6646235069599823e-11\n",
            "[3] : Freq = 626.6450980927036\t - Residual = 2.3317022893495643e-11\n",
            "[4] : Freq = 928.2598500574524\t - Residual = 9.19379840256846e-12\n",
            "[5] : Freq = 928.2598500574542\t - Residual = 5.0619353492161986e-12\n",
            "[6] : Freq = 1249.842107436349\t - Residual = 5.949488340195741e-12\n",
            "[7] : Freq = 1249.8421074363528\t - Residual = 1.6612751830345457e-11\n",
            "[8] : Freq = 1423.9938909416678\t - Residual = 7.628832087008599e-10\n",
            "[9] : Freq = 1423.993890941671\t - Residual = 7.968362651551089e-11\n"
          ]
        }
      ],
      "source": [
        "def get_res(i):\n",
        "    \"\"\"Compute the residual for a given eigenmode\"\"\"\n",
        "    # Eigenfrequency (Hz)\n",
        "    f = ev[i]\n",
        "\n",
        "    # omega = 2.pi.Frequency\n",
        "    omega = 2 * np.pi * f\n",
        "\n",
        "    # lambda = omega^2\n",
        "    lam = omega * omega\n",
        "\n",
        "    # i-th eigenshape\n",
        "    phi = a[i]\n",
        "\n",
        "    # K.Phi\n",
        "    kphi = k.dot(phi)\n",
        "\n",
        "    # M.Phi\n",
        "    mphi = m.dot(phi)\n",
        "\n",
        "    # Normalization scalar value\n",
        "    kphinrm = kphi.norm()\n",
        "\n",
        "    # (K-\\lambda.M).Phi\n",
        "    mphi *= lam\n",
        "    kphi -= mphi\n",
        "\n",
        "    # return the residual\n",
        "    return kphi.norm() / kphinrm\n",
        "\n",
        "\n",
        "mapdl_acc = np.zeros(nev)\n",
        "\n",
        "for i in range(nev):\n",
        "    f = ev[i]\n",
        "    mapdl_acc[i] = get_res(i)\n",
        "    print(f\"[{i}] : Freq = {f}\\t - Residual = {mapdl_acc[i]}\")"
      ]
    },
    {
      "cell_type": "markdown",
      "metadata": {},
      "source": [
        "Plot Accuracy of Eigenresults\n"
      ]
    },
    {
      "cell_type": "code",
      "execution_count": 14,
      "metadata": {
        "collapsed": false
      },
      "outputs": [
        {
          "data": {
            "image/png": "[encoded data removed]",
            "text/plain": [
              "<Figure size 1200x1000 with 1 Axes>"
            ]
          },
          "metadata": {},
          "output_type": "display_data"
        }
      ],
      "source": [
        "fig = plt.figure(figsize=(12, 10))\n",
        "ax = plt.axes()\n",
        "x = np.linspace(1, nev, nev)\n",
        "plt.title(\"APDL Math Residual Error (%)\")\n",
        "plt.yscale(\"log\")\n",
        "plt.ylim([10e-13, 10e-7])\n",
        "plt.xlabel(\"Frequency #\")\n",
        "plt.ylabel(\"Errors (%)\")\n",
        "ax.bar(x, mapdl_acc, label=\"MAPDL Results\")\n",
        "plt.show()"
      ]
    },
    {
      "cell_type": "markdown",
      "metadata": {},
      "source": [
        "stop mapdl\n"
      ]
    },
    {
      "cell_type": "code",
      "execution_count": 15,
      "metadata": {
        "collapsed": false
      },
      "outputs": [],
      "source": [
        "mm._mapdl.exit()"
      ]
    }
  ],
  "metadata": {
    "kernelspec": {
      "display_name": "Python 3.10.8 ('.venv': venv)",
      "language": "python",
      "name": "python3"
    },
    "language_info": {
      "codemirror_mode": {
        "name": "ipython",
        "version": 3
      },
      "file_extension": ".py",
      "mimetype": "text/x-python",
      "name": "python",
      "nbconvert_exporter": "python",
      "pygments_lexer": "ipython3",
      "version": "3.10.8"
    },
    "vscode": {
      "interpreter": {
        "hash": "bf638d82cb992c7aa831d859bf7561f8a1b8aa4ca0d9d2db664cf6501bcc33fa"
      }
    }
  },
  "nbformat": 4,
  "nbformat_minor": 0
}
