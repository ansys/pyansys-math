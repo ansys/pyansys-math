{
  "cells": [
    {
      "cell_type": "code",
      "execution_count": null,
      "metadata": {
        "collapsed": false
      },
      "outputs": [],
      "source": [
        "%matplotlib inline"
      ]
    },
    {
      "cell_type": "markdown",
      "metadata": {},
      "source": [
        "# Using APDLMath to solve Eigenproblems {#ref_mapdl_math_eigen_solve}\n",
        "\n",
        "Use APDLMath to solve eigenproblems.\n",
        "\n",
        "This example uses a verification manual input file, but you can use your\n",
        "own sparse or dense matrices and solve those.\n"
      ]
    },
    {
      "cell_type": "code",
      "execution_count": 8,
      "metadata": {
        "collapsed": false
      },
      "outputs": [
        {
          "ename": "ImportError",
          "evalue": "cannot import name 'launch_math' from 'ansys.math.core.math' (D:\\repos\\pyansys\\ansys-math\\src\\ansys\\math\\core\\math.py)",
          "output_type": "error",
          "traceback": [
            "\u001b[1;31m---------------------------------------------------------------------------\u001b[0m",
            "\u001b[1;31mImportError\u001b[0m                               Traceback (most recent call last)",
            "Cell \u001b[1;32mIn[8], line 10\u001b[0m\n\u001b[0;32m      7\u001b[0m \u001b[39mfrom\u001b[39;00m \u001b[39mansys\u001b[39;00m\u001b[39m.\u001b[39;00m\u001b[39mmapdl\u001b[39;00m\u001b[39m.\u001b[39;00m\u001b[39mcore\u001b[39;00m\u001b[39m.\u001b[39;00m\u001b[39mexamples\u001b[39;00m \u001b[39mimport\u001b[39;00m vmfiles\n\u001b[0;32m      9\u001b[0m \u001b[39mimport\u001b[39;00m \u001b[39mansys\u001b[39;00m\u001b[39m.\u001b[39;00m\u001b[39mmath\u001b[39;00m\u001b[39m.\u001b[39;00m\u001b[39mcore\u001b[39;00m\u001b[39m.\u001b[39;00m\u001b[39mmath\u001b[39;00m \u001b[39mas\u001b[39;00m \u001b[39mapdl_math\u001b[39;00m\n\u001b[1;32m---> 10\u001b[0m \u001b[39mfrom\u001b[39;00m \u001b[39mansys\u001b[39;00m\u001b[39m.\u001b[39;00m\u001b[39mmath\u001b[39;00m\u001b[39m.\u001b[39;00m\u001b[39mcore\u001b[39;00m\u001b[39m.\u001b[39;00m\u001b[39mmath\u001b[39;00m \u001b[39mimport\u001b[39;00m launch_math\n\u001b[0;32m     12\u001b[0m \u001b[39m# Start MAPDL as a service\u001b[39;00m\n\u001b[0;32m     13\u001b[0m mapdl \u001b[39m=\u001b[39m launch_mapdl()\n",
            "\u001b[1;31mImportError\u001b[0m: cannot import name 'launch_math' from 'ansys.math.core.math' (D:\\repos\\pyansys\\ansys-math\\src\\ansys\\math\\core\\math.py)"
          ]
        }
      ],
      "source": [
        "import time\n",
        "\n",
        "import matplotlib.pylab as plt\n",
        "import numpy as np\n",
        "\n",
        "from ansys.mapdl.core import launch_mapdl\n",
        "from ansys.mapdl.core.examples import vmfiles\n",
        "\n",
        "from ansys.math.core.math import launch_math\n",
        "\n",
        "# Start MAPDL as a service\n",
        "mapdl = launch_mapdl()\n",
        "\n",
        "# Start Ansys Math\n",
        "mm = launch_math(mapdl)"
      ]
    },
    {
      "cell_type": "markdown",
      "metadata": {},
      "source": [
        "First we get the [STIFF]{.title-ref} and [MASS]{.title-ref} matrices\n",
        "from the full file after running the input file from Verification Manual\n",
        "153\n"
      ]
    },
    {
      "cell_type": "code",
      "execution_count": null,
      "metadata": {
        "collapsed": false
      },
      "outputs": [],
      "source": [
        "out = mapdl.input(vmfiles[\"vm153\"])\n",
        "\n",
        "k = mm.stiff(fname=\"PRSMEMB.full\")\n",
        "m = mm.mass(fname=\"PRSMEMB.full\")"
      ]
    },
    {
      "cell_type": "markdown",
      "metadata": {},
      "source": [
        "Display size of the M and K matrices\n"
      ]
    },
    {
      "cell_type": "code",
      "execution_count": null,
      "metadata": {
        "collapsed": false
      },
      "outputs": [],
      "source": [
        "print(m.shape)\n",
        "print(k.shape)"
      ]
    },
    {
      "cell_type": "markdown",
      "metadata": {},
      "source": [
        "Allocate an array to store the eigenshapes. where [nev]{.title-ref} is\n",
        "the number of eigenvalues requested\n"
      ]
    },
    {
      "cell_type": "code",
      "execution_count": null,
      "metadata": {
        "collapsed": false
      },
      "outputs": [],
      "source": [
        "nev = 10\n",
        "a = mm.mat(k.nrow, nev)\n",
        "a"
      ]
    },
    {
      "cell_type": "markdown",
      "metadata": {},
      "source": [
        "Perform the the modal analysis.\n",
        "\n",
        "The algorithm is automatically chosen with respect to the matrices\n",
        "properties (e.g. scalar, storage, symmetry\\...)\n"
      ]
    },
    {
      "cell_type": "code",
      "execution_count": null,
      "metadata": {
        "collapsed": false
      },
      "outputs": [],
      "source": [
        "print(\"Calling MAPDL to solve the eigenproblem...\")\n",
        "\n",
        "t1 = time.time()\n",
        "ev = mm.eigs(nev, k, m, phi=a)\n",
        "print(f\"Elapsed time to solve this problem: {time.time() - t1}\")"
      ]
    },
    {
      "cell_type": "markdown",
      "metadata": {},
      "source": [
        "This is the vector of eigenfrequencies.\n"
      ]
    },
    {
      "cell_type": "code",
      "execution_count": null,
      "metadata": {
        "collapsed": false
      },
      "outputs": [],
      "source": [
        "print(ev)"
      ]
    },
    {
      "cell_type": "markdown",
      "metadata": {},
      "source": [
        "# Verify the accuracy of eigenresults\n",
        "\n",
        "Check the residual error for the first eigenresult\n",
        "$R_1=||(K-\\lambda_1.M).\\phi_1||_2$\n",
        "\n",
        "First, we compute $\\lambda_1 = \\omega_1^2 = (2.\\pi.f_1)^2$\n"
      ]
    },
    {
      "cell_type": "code",
      "execution_count": null,
      "metadata": {
        "collapsed": false
      },
      "outputs": [],
      "source": [
        "# Eigenfrequency (Hz)\n",
        "i = 0\n",
        "f = ev[0]\n",
        "omega = 2 * np.pi * f\n",
        "lam = omega * omega"
      ]
    },
    {
      "cell_type": "markdown",
      "metadata": {},
      "source": [
        "Then we get the 1st Eigenshape $\\phi_1$, and compute $K.\\phi_1$ and\n",
        "$M.\\phi_1$\n"
      ]
    },
    {
      "cell_type": "code",
      "execution_count": null,
      "metadata": {
        "collapsed": false
      },
      "outputs": [],
      "source": [
        "# shape\n",
        "phi = a[0]\n",
        "\n",
        "# APDL Command: *MULT,K,,Phi,,KPhi\n",
        "kphi = k.dot(phi)\n",
        "\n",
        "# APDL Command: *MULT,M,,Phi,,MPhi\n",
        "mphi = m.dot(phi)"
      ]
    },
    {
      "cell_type": "markdown",
      "metadata": {},
      "source": [
        "Next, compute the $||K.\\phi_1||_2$ quantity and normalize the residual\n",
        "value.\n"
      ]
    },
    {
      "cell_type": "code",
      "execution_count": null,
      "metadata": {
        "collapsed": false
      },
      "outputs": [],
      "source": [
        "# APDL Command: *MULT,K,,Phi,,KPhi\n",
        "kphi = k.dot(phi)\n",
        "\n",
        "\n",
        "# APDL Command: *NRM,KPhi,NRM2,KPhiNrm\n",
        "kphinrm = kphi.norm()"
      ]
    },
    {
      "cell_type": "markdown",
      "metadata": {},
      "source": [
        "Then we add these two vectors, using the $\\lambda_1$ scalar factor and\n",
        "finally compute the normalized residual value\n",
        "$\\frac{R_1}{||K.\\phi_1||_2}$\n"
      ]
    },
    {
      "cell_type": "code",
      "execution_count": null,
      "metadata": {
        "collapsed": false
      },
      "outputs": [],
      "source": [
        "# APDL Command: *AXPY,-lambda,,MPhi,1,,KPhi\n",
        "mphi *= lam\n",
        "kphi -= mphi\n",
        "\n",
        "# Compute the residual\n",
        "res = kphi.norm() / kphinrm\n",
        "print(res)"
      ]
    },
    {
      "cell_type": "markdown",
      "metadata": {},
      "source": [
        "This residual can be computed for all eigenmodes\n"
      ]
    },
    {
      "cell_type": "code",
      "execution_count": null,
      "metadata": {
        "collapsed": false
      },
      "outputs": [],
      "source": [
        "def get_res(i):\n",
        "    \"\"\"Compute the residual for a given eigenmode\"\"\"\n",
        "    # Eigenfrequency (Hz)\n",
        "    f = ev[i]\n",
        "\n",
        "    # omega = 2.pi.Frequency\n",
        "    omega = 2 * np.pi * f\n",
        "\n",
        "    # lambda = omega^2\n",
        "    lam = omega * omega\n",
        "\n",
        "    # i-th eigenshape\n",
        "    phi = a[i]\n",
        "\n",
        "    # K.Phi\n",
        "    kphi = k.dot(phi)\n",
        "\n",
        "    # M.Phi\n",
        "    mphi = m.dot(phi)\n",
        "\n",
        "    # Normalization scalar value\n",
        "    kphinrm = kphi.norm()\n",
        "\n",
        "    # (K-\\lambda.M).Phi\n",
        "    mphi *= lam\n",
        "    kphi -= mphi\n",
        "\n",
        "    # return the residual\n",
        "    return kphi.norm() / kphinrm\n",
        "\n",
        "\n",
        "mapdl_acc = np.zeros(nev)\n",
        "\n",
        "for i in range(nev):\n",
        "    f = ev[i]\n",
        "    mapdl_acc[i] = get_res(i)\n",
        "    print(f\"[{i}] : Freq = {f}\\t - Residual = {mapdl_acc[i]}\")"
      ]
    },
    {
      "cell_type": "markdown",
      "metadata": {},
      "source": [
        "Plot Accuracy of Eigenresults\n"
      ]
    },
    {
      "cell_type": "code",
      "execution_count": null,
      "metadata": {
        "collapsed": false
      },
      "outputs": [],
      "source": [
        "fig = plt.figure(figsize=(12, 10))\n",
        "ax = plt.axes()\n",
        "x = np.linspace(1, nev, nev)\n",
        "plt.title(\"APDL Math Residual Error (%)\")\n",
        "plt.yscale(\"log\")\n",
        "plt.ylim([10e-13, 10e-7])\n",
        "plt.xlabel(\"Frequency #\")\n",
        "plt.ylabel(\"Errors (%)\")\n",
        "ax.bar(x, mapdl_acc, label=\"MAPDL Results\")\n",
        "plt.show()"
      ]
    },
    {
      "cell_type": "markdown",
      "metadata": {},
      "source": [
        "stop mapdl\n"
      ]
    },
    {
      "cell_type": "code",
      "execution_count": null,
      "metadata": {
        "collapsed": false
      },
      "outputs": [],
      "source": [
        "mapdl.exit()"
      ]
    }
  ],
  "metadata": {
    "kernelspec": {
      "display_name": "Python 3.10.8 ('.venv': venv)",
      "language": "python",
      "name": "python3"
    },
    "language_info": {
      "codemirror_mode": {
        "name": "ipython",
        "version": 3
      },
      "file_extension": ".py",
      "mimetype": "text/x-python",
      "name": "python",
      "nbconvert_exporter": "python",
      "pygments_lexer": "ipython3",
      "version": "3.10.8"
    },
    "vscode": {
      "interpreter": {
        "hash": "bf638d82cb992c7aa831d859bf7561f8a1b8aa4ca0d9d2db664cf6501bcc33fa"
      }
    }
  },
  "nbformat": 4,
  "nbformat_minor": 0
}
