{
  "cells": [
    {
      "cell_type": "code",
      "execution_count": null,
      "metadata": {
        "collapsed": false
      },
      "outputs": [],
      "source": [
        "%matplotlib inline"
      ]
    },
    {
      "cell_type": "markdown",
      "metadata": {},
      "source": [
        "# Compute Eigenvalues using MAPDL or SciPy {#ref_mapdl_math_mapdl_vs_scipy}\n",
        "\n",
        "This example shows:\n",
        "\n",
        "-   How to extract the stiffness and mass matrices from a MAPDL model.\n",
        "-   How to use the `Math` module of PyMapdl to compute the first\n",
        "    eigenvalues.\n",
        "-   How to can get these matrices in the SciPy world, to get the same\n",
        "    solutions using Python resources.\n",
        "-   How MAPDL is really faster than SciPy :)\n"
      ]
    },
    {
      "cell_type": "code",
      "execution_count": null,
      "metadata": {
        "collapsed": false
      },
      "outputs": [],
      "source": [
        "import math"
      ]
    },
    {
      "cell_type": "markdown",
      "metadata": {},
      "source": [
        "First load python packages we need for this example\n"
      ]
    },
    {
      "cell_type": "code",
      "execution_count": null,
      "metadata": {
        "collapsed": false
      },
      "outputs": [],
      "source": [
        "import time\n",
        "\n",
        "import matplotlib.pylab as plt\n",
        "import numpy as np\n",
        "import scipy\n",
        "from scipy.sparse.linalg import eigsh\n",
        "\n",
        "from ansys.mapdl.core import examples\n",
        "import ansys.math.core.math as amath\n",
        "\n",
        "# Start Ansys Math\n",
        "mm = amath.Math()"
      ]
    },
    {
      "cell_type": "markdown",
      "metadata": {},
      "source": [
        "APDLMath EigenSolve First load the input file using MAPDL.\n"
      ]
    },
    {
      "cell_type": "code",
      "execution_count": null,
      "metadata": {
        "collapsed": false
      },
      "outputs": [],
      "source": [
        "print(mm._mapdl.input(examples.examples.wing_model))"
      ]
    },
    {
      "cell_type": "markdown",
      "metadata": {},
      "source": [
        "Plot and mesh using the `eplot` method.\n"
      ]
    },
    {
      "cell_type": "code",
      "execution_count": null,
      "metadata": {
        "collapsed": false
      },
      "outputs": [],
      "source": [
        "mm._mapdl.eplot()"
      ]
    },
    {
      "cell_type": "markdown",
      "metadata": {},
      "source": [
        "Next, setup a modal Analysis and request the $K$ and\n",
        "math:[M]{.title-ref} matrices to be formed. MAPDL stores these matrices\n",
        "in a `.FULL` file.\n"
      ]
    },
    {
      "cell_type": "code",
      "execution_count": null,
      "metadata": {
        "collapsed": false
      },
      "outputs": [],
      "source": [
        "print(mm._mapdl.slashsolu())\n",
        "print(mm._mapdl.antype(antype=\"MODAL\"))\n",
        "print(mm._mapdl.modopt(method=\"LANB\", nmode=\"10\", freqb=\"1.\"))\n",
        "print(mm._mapdl.wrfull(ldstep=\"1\"))\n",
        "\n",
        "# store the output of the solve command\n",
        "output = mm._mapdl.solve()"
      ]
    },
    {
      "cell_type": "markdown",
      "metadata": {},
      "source": [
        "Read the sparse matrices using PyMapdl.\n"
      ]
    },
    {
      "cell_type": "code",
      "execution_count": null,
      "metadata": {
        "collapsed": false
      },
      "outputs": [],
      "source": [
        "mm._mapdl.finish()\n",
        "mm.free()\n",
        "k = mm.stiff(fname=\"file.full\")\n",
        "M = mm.mass(fname=\"file.full\")"
      ]
    },
    {
      "cell_type": "markdown",
      "metadata": {},
      "source": [
        "Solve the eigenproblem using PyMapdl with APDLMath.\n"
      ]
    },
    {
      "cell_type": "code",
      "execution_count": null,
      "metadata": {
        "collapsed": false
      },
      "outputs": [],
      "source": [
        "nev = 10\n",
        "A = mm.mat(k.nrow, nev)\n",
        "\n",
        "t1 = time.time()\n",
        "ev = mm.eigs(nev, k, M, phi=A, fmin=1.0)\n",
        "t2 = time.time()\n",
        "mapdl_elapsed_time = t2 - t1\n",
        "print(\"\\nElapsed time to solve this problem : \", mapdl_elapsed_time)"
      ]
    },
    {
      "cell_type": "markdown",
      "metadata": {},
      "source": [
        "Print eigenfrequencies and accuracy.\n",
        "\n",
        "Accuracy : $\\frac{||(K-\\lambda.M).\\phi||_2}{||K.\\phi||_2}$\n"
      ]
    },
    {
      "cell_type": "code",
      "execution_count": null,
      "metadata": {
        "collapsed": false
      },
      "outputs": [],
      "source": [
        "mapdl_acc = np.empty(nev)\n",
        "\n",
        "for i in range(nev):\n",
        "    f = ev[i]  # Eigenfrequency (Hz)\n",
        "    omega = 2 * np.pi * f  # omega = 2.pi.Frequency\n",
        "    lam = omega**2  # lambda = omega^2\n",
        "\n",
        "    phi = A[i]  # i-th eigenshape\n",
        "    kphi = k.dot(phi)  # K.Phi\n",
        "    mphi = M.dot(phi)  # M.Phi\n",
        "\n",
        "    kphi_nrm = kphi.norm()  # Normalization scalar value\n",
        "\n",
        "    mphi *= lam  # (K-\\lambda.M).Phi\n",
        "    kphi -= mphi\n",
        "\n",
        "    mapdl_acc[i] = kphi.norm() / kphi_nrm  # compute the residual\n",
        "    print(f\"[{i}] : Freq = {f:8.2f} Hz\\t Residual = {mapdl_acc[i]:.5}\")"
      ]
    },
    {
      "cell_type": "markdown",
      "metadata": {},
      "source": [
        "# Use SciPy to Solve the same Eigenproblem\n",
        "\n",
        "First get MAPDL sparse matrices into the Python memory as SciPy\n",
        "matrices.\n"
      ]
    },
    {
      "cell_type": "code",
      "execution_count": null,
      "metadata": {
        "collapsed": false
      },
      "outputs": [],
      "source": [
        "pk = k.asarray()\n",
        "pm = M.asarray()\n",
        "\n",
        "# get_ipython().run_line_magic('matplotlib', 'inline')\n",
        "\n",
        "fig, (ax1, ax2) = plt.subplots(1, 2)\n",
        "fig.suptitle(\"K and M Matrix profiles\")\n",
        "ax1.spy(pk, markersize=0.01)\n",
        "ax1.set_title(\"K Matrix\")\n",
        "ax2.spy(pm, markersize=0.01)\n",
        "ax2.set_title(\"M Matrix\")\n",
        "plt.show(block=True)"
      ]
    },
    {
      "cell_type": "markdown",
      "metadata": {},
      "source": [
        "Make the sparse matrices for SciPy unsymmetric as symmetric matrices in\n",
        "SciPy are memory inefficient.\n",
        "\n",
        "$K = K + K^T - diag(K)$\n"
      ]
    },
    {
      "cell_type": "code",
      "execution_count": null,
      "metadata": {
        "collapsed": false
      },
      "outputs": [],
      "source": [
        "pkd = scipy.sparse.diags(pk.diagonal())\n",
        "pK = pk + pk.transpose() - pkd\n",
        "pmd = scipy.sparse.diags(pm.diagonal())\n",
        "pm = pm + pm.transpose() - pmd"
      ]
    },
    {
      "cell_type": "markdown",
      "metadata": {},
      "source": [
        "Plot Matrices\n"
      ]
    },
    {
      "cell_type": "code",
      "execution_count": null,
      "metadata": {
        "collapsed": false
      },
      "outputs": [],
      "source": [
        "fig, (ax1, ax2) = plt.subplots(1, 2)\n",
        "fig.suptitle(\"K and M Matrix profiles\")\n",
        "ax1.spy(pk, markersize=0.01)\n",
        "ax1.set_title(\"K Matrix\")\n",
        "ax2.spy(pm, markersize=0.01)\n",
        "ax2.set_title(\"M Matrix\")\n",
        "plt.show(block=True)"
      ]
    },
    {
      "cell_type": "markdown",
      "metadata": {},
      "source": [
        "Solve the eigenproblem\n"
      ]
    },
    {
      "cell_type": "code",
      "execution_count": null,
      "metadata": {
        "collapsed": false
      },
      "outputs": [],
      "source": [
        "t3 = time.time()\n",
        "vals, vecs = eigsh(A=pK, M=pm, k=10, sigma=1, which=\"LA\")\n",
        "t4 = time.time()\n",
        "scipy_elapsed_time = t4 - t3\n",
        "print(\"\\nElapsed time to solve this problem : \", scipy_elapsed_time)"
      ]
    },
    {
      "cell_type": "markdown",
      "metadata": {},
      "source": [
        "Convert Lambda values to Frequency values:\n",
        "$freq = \\frac{\\sqrt(\\lambda)}{2.\\pi}$\n"
      ]
    },
    {
      "cell_type": "code",
      "execution_count": null,
      "metadata": {
        "collapsed": false
      },
      "outputs": [],
      "source": [
        "freqs = np.sqrt(vals) / (2 * math.pi)"
      ]
    },
    {
      "cell_type": "markdown",
      "metadata": {},
      "source": [
        "Compute the residual error for SciPy.\n",
        "\n",
        "$Err=\\frac{||(K-\\lambda.M).\\phi||_2}{||K.\\phi||_2}$\n"
      ]
    },
    {
      "cell_type": "code",
      "execution_count": null,
      "metadata": {
        "collapsed": false
      },
      "outputs": [],
      "source": [
        "scipy_acc = np.zeros(nev)\n",
        "\n",
        "for i in range(nev):\n",
        "    lam = vals[i]  # i-th eigenvalue\n",
        "    phi = vecs.T[i]  # i-th eigenshape\n",
        "\n",
        "    kphi = pk * phi.T  # K.Phi\n",
        "    mphi = pm * phi.T  # M.Phi\n",
        "\n",
        "    kphi_nrm = np.linalg.norm(kphi, 2)  # Normalization scalar value\n",
        "\n",
        "    mphi *= lam  # (K-\\lambda.M).Phi\n",
        "    kphi -= mphi\n",
        "\n",
        "    scipy_acc[i] = 1 - np.linalg.norm(kphi, 2) / kphi_nrm  # compute the residual\n",
        "    print(f\"[{i}] : Freq = {freqs[i]:8.2f} Hz\\t Residual = {scipy_acc[i]:.5}\")"
      ]
    },
    {
      "cell_type": "markdown",
      "metadata": {},
      "source": [
        "MAPDL is more accurate than SciPy.\n"
      ]
    },
    {
      "cell_type": "code",
      "execution_count": null,
      "metadata": {
        "collapsed": false
      },
      "outputs": [],
      "source": [
        "fig = plt.figure(figsize=(12, 10))\n",
        "ax = plt.axes()\n",
        "x = np.linspace(1, 10, 10)\n",
        "plt.title(\"Residual Error\")\n",
        "plt.yscale(\"log\")\n",
        "plt.xlabel(\"Mode\")\n",
        "plt.ylabel(\"% Error\")\n",
        "ax.bar(x, scipy_acc, label=\"SciPy Results\")\n",
        "ax.bar(x, mapdl_acc, label=\"MAPDL Results\")\n",
        "plt.legend(loc=\"lower right\")\n",
        "plt.show()"
      ]
    },
    {
      "cell_type": "markdown",
      "metadata": {},
      "source": [
        "MAPDL is faster than SciPy.\n"
      ]
    },
    {
      "cell_type": "code",
      "execution_count": null,
      "metadata": {
        "collapsed": false
      },
      "outputs": [],
      "source": [
        "ratio = scipy_elapsed_time / mapdl_elapsed_time\n",
        "print(f\"Mapdl is {ratio:.3} times faster\")"
      ]
    },
    {
      "cell_type": "markdown",
      "metadata": {},
      "source": [
        "stop mapdl\n"
      ]
    },
    {
      "cell_type": "code",
      "execution_count": null,
      "metadata": {
        "collapsed": false
      },
      "outputs": [],
      "source": [
        "mm._mapdl.exit()"
      ]
    }
  ],
  "metadata": {
    "kernelspec": {
      "display_name": "Python 3.10.8 64-bit",
      "language": "python",
      "name": "python3"
    },
    "language_info": {
      "codemirror_mode": {
        "name": "ipython",
        "version": 3
      },
      "file_extension": ".py",
      "mimetype": "text/x-python",
      "name": "python",
      "nbconvert_exporter": "python",
      "pygments_lexer": "ipython3",
      "version": "3.10.8"
    },
    "vscode": {
      "interpreter": {
        "hash": "2a8dfe095fce2b5e88c64a2c3ee084c8e0e0d70b23e7b95b1cfb538be294c5c8"
      }
    }
  },
  "nbformat": 4,
  "nbformat_minor": 0
}
