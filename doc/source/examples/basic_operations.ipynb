{
  "cells": [
    {
      "cell_type": "code",
      "execution_count": null,
      "metadata": {
        "collapsed": false
      },
      "outputs": [],
      "source": [
        "%matplotlib inline"
      ]
    },
    {
      "cell_type": "markdown",
      "metadata": {},
      "source": [
        "# PyMAPDL APDLMath Basic Operations {#ref_mapdl_math_basic}\r\n\r\nThis tutorial shows how you can use pymapdl to use APDL math for basic\r\noperations on APDLMath vectors and matrices in the APDL memory\r\nworkspace.\r\n\r\nThe [ansys.mapdl.math]{.title-ref} submodule gives access to APDLMath\r\nfeatures inside PyMAPDL.\r\n"
      ]
    },
    {
      "cell_type": "code",
      "execution_count": null,
      "metadata": {
        "collapsed": false
      },
      "outputs": [],
      "source": [
        "import numpy as np\n\nfrom ansys.mapdl.core import launch_mapdl\n\n# Start MAPDL as a service and create an APDLMath object.\nmapdl = launch_mapdl()\nmm = mapdl.math"
      ]
    },
    {
      "cell_type": "markdown",
      "metadata": {},
      "source": [
        "# Create and Manipulate Vectors\r\n\r\nCreate 2 APDLMath vectors of size 5. $\\vec{v}$ is initialized with ones,\r\n\\$vec{w}\\$ is filled with random values\r\n\r\nCorresponding APDLMath commands - [\\*VEC,V,D,ALLOC,5]{.title-ref} -\r\n[\\*INIT,V,CONST,1]{.title-ref} - [\\*VEC,W,D,ALLOC,5]{.title-ref} -\r\n[\\*INIT,W,RAND]{.title-ref}\r\n"
      ]
    },
    {
      "cell_type": "code",
      "execution_count": null,
      "metadata": {
        "collapsed": false
      },
      "outputs": [],
      "source": [
        "v = mm.ones(5)\nw = mm.rand(5)\nprint(w)"
      ]
    },
    {
      "cell_type": "markdown",
      "metadata": {},
      "source": [
        "# Use operators on vectors\r\n\r\nJust like [numpy]{.title-ref} PyMAPDL APDLMath vectors can be have most\r\nof the standard operators (e.g. `+, -, +=, -=, *=`)\r\n\r\nHere we form $\\vec{z}=\\vec{v}+\\vec{w}$\r\n\r\nThen we compute $\\|z\\|_2$ (the default [norm]{.title-ref} is nrm2, but\r\nyou can use [.norm(\\'nrm1\\')]{.title-ref} or\r\n[.norm(\\'nrminf\\')]{.title-ref} for different normals. See\r\n[help(z.norm)]{.title-ref} for additional details.\r\n\r\nAPDLMath Commands: - [\\*VEC,Z,D,COPY,V]{.title-ref} -\r\n[\\*AXPY,1,,W,1,,Z]{.title-ref} - [\\*NRM,Z,,nrmval]{.title-ref}\r\n"
      ]
    },
    {
      "cell_type": "code",
      "execution_count": null,
      "metadata": {
        "collapsed": false
      },
      "outputs": [],
      "source": [
        "z = v + w\nz.norm()"
      ]
    },
    {
      "cell_type": "markdown",
      "metadata": {},
      "source": [
        "# Methods\r\n\r\nAlternatively you can use methods, following the numpy standards.\r\nAvailable methods are:\r\n\r\n-   [mm.add()]{.title-ref}\r\n-   [mm.subtract()]{.title-ref}\r\n-   [mm.dot()]{.title-ref}\r\n\r\nEquivalent operator: [z = v + w]{.title-ref}\r\n\r\nEquivalent APDLMath Commands: - [\\*VEC,Z,D,COPY,V]{.title-ref} -\r\n[\\*AXPY,1,,W,1,,Z]{.title-ref}\r\n"
      ]
    },
    {
      "cell_type": "code",
      "execution_count": null,
      "metadata": {
        "collapsed": false
      },
      "outputs": [],
      "source": [
        "z = mm.add(v, w)\nz.norm()"
      ]
    },
    {
      "cell_type": "markdown",
      "metadata": {},
      "source": [
        "Subtraction\r\n\r\nEquivalent operator: z = v - w\r\n\r\nEquivalent APDLMath Commands: - [\\*VEC,Z,D,COPY,V]{.title-ref} -\r\n[\\*AXPY,-1,,W,1,,Z]{.title-ref}\r\n"
      ]
    },
    {
      "cell_type": "code",
      "execution_count": null,
      "metadata": {
        "collapsed": false
      },
      "outputs": [],
      "source": [
        "z = mm.subtract(v, w)\nprint(z)"
      ]
    },
    {
      "cell_type": "markdown",
      "metadata": {},
      "source": [
        "Dot product of 2 vectors\r\n\r\nEquivalent APDLMath Command: [\\*DOT,V,W,dotval]{.title-ref}\r\n"
      ]
    },
    {
      "cell_type": "code",
      "execution_count": null,
      "metadata": {
        "collapsed": false
      },
      "outputs": [],
      "source": [
        "vw = mm.dot(v, w)\nprint(\"Dot product :\", str(vw))"
      ]
    },
    {
      "cell_type": "markdown",
      "metadata": {},
      "source": [
        "# Perform an in-place operations (without copying vectors)\r\n\r\nIn-Place Addition\r\n\r\nMAPDL Commands: - [\\*AXPY,1,,V,1,,Z]{.title-ref} -\r\n[\\*PRINT,Z]{.title-ref}\r\n"
      ]
    },
    {
      "cell_type": "code",
      "execution_count": null,
      "metadata": {
        "collapsed": false
      },
      "outputs": [],
      "source": [
        "v += v\nprint(v)"
      ]
    },
    {
      "cell_type": "markdown",
      "metadata": {},
      "source": [
        "In-Place Multiplication\r\n\r\nMAPDL Command: [\\*SCAL,v,2]{.title-ref}\r\n"
      ]
    },
    {
      "cell_type": "code",
      "execution_count": null,
      "metadata": {
        "collapsed": false
      },
      "outputs": [],
      "source": [
        "v *= 2\nprint(v)"
      ]
    },
    {
      "cell_type": "markdown",
      "metadata": {},
      "source": [
        "In-Place Multiplication\r\n"
      ]
    },
    {
      "cell_type": "code",
      "execution_count": null,
      "metadata": {
        "collapsed": false
      },
      "outputs": [],
      "source": [
        "v /= 2.0\nprint(v)"
      ]
    },
    {
      "cell_type": "markdown",
      "metadata": {},
      "source": [
        "# Working with Dense Matrices\r\n\r\nAllocate two dense matrices with random values.\r\n\r\nMAPDL Commands:\r\n\r\n-   [\\*DMAT,m1,D,ALLOC,4,5]{.title-ref}\r\n-   [\\*INIT,m1,RAND]{.title-ref}\r\n-   [\\*DMAT,m1,D,ALLOC,4,5]{.title-ref}\r\n-   [\\*INIT,m1,CONST,1]{.title-ref}\r\n"
      ]
    },
    {
      "cell_type": "code",
      "execution_count": null,
      "metadata": {
        "collapsed": false
      },
      "outputs": [],
      "source": [
        "m1 = mm.rand(4, 5)\nm2 = mm.ones(4, 5)\nm1, m2"
      ]
    },
    {
      "cell_type": "markdown",
      "metadata": {},
      "source": [
        "**Add** these 2 dense matrices, and **scale** the result matrix.\r\n\r\nMapdl Commands - [\\*DMAT,m3,D,COPY,m1]{.title-ref} -\r\n[\\*AXPY,1,,m2,1,,m3]{.title-ref}\r\n"
      ]
    },
    {
      "cell_type": "code",
      "execution_count": null,
      "metadata": {
        "collapsed": false
      },
      "outputs": [],
      "source": [
        "m3 = m1 + m2\nprint(m3)\n\nm3 *= 2\nprint(m3)"
      ]
    },
    {
      "cell_type": "markdown",
      "metadata": {},
      "source": [
        "**\\*Transpose**\\* a Matrix\r\n"
      ]
    },
    {
      "cell_type": "code",
      "execution_count": null,
      "metadata": {
        "collapsed": false
      },
      "outputs": [],
      "source": [
        "m4 = m3.T\nprint(m4)"
      ]
    },
    {
      "cell_type": "markdown",
      "metadata": {},
      "source": [
        "As for vectors, methods are also available as an alternative to\r\noperators.\r\n"
      ]
    },
    {
      "cell_type": "code",
      "execution_count": null,
      "metadata": {
        "collapsed": false
      },
      "outputs": [],
      "source": [
        "m3 = mm.add(m1, m2)\nprint(m3)"
      ]
    },
    {
      "cell_type": "markdown",
      "metadata": {},
      "source": [
        "Compute a matrix vector multiplication\r\n"
      ]
    },
    {
      "cell_type": "code",
      "execution_count": null,
      "metadata": {
        "collapsed": false
      },
      "outputs": [],
      "source": [
        "mw = m3.dot(m4)\nprint(mw)"
      ]
    },
    {
      "cell_type": "markdown",
      "metadata": {},
      "source": [
        "APDLMath matrices can be identified by printing, viewing their types, or\r\nwith using the [\\_\\_repr\\_\\_]{.title-ref} method by simply typing out\r\nthe variable\r\n\r\n# APDLMath Matrix\r\n"
      ]
    },
    {
      "cell_type": "code",
      "execution_count": null,
      "metadata": {
        "collapsed": false
      },
      "outputs": [],
      "source": [
        "type(m1)\nprint(m1)\nm1"
      ]
    },
    {
      "cell_type": "markdown",
      "metadata": {},
      "source": [
        "APDLMath Vector\r\n"
      ]
    },
    {
      "cell_type": "code",
      "execution_count": null,
      "metadata": {
        "collapsed": false
      },
      "outputs": [],
      "source": [
        "type(w)\nprint(w)\nw"
      ]
    },
    {
      "cell_type": "markdown",
      "metadata": {},
      "source": [
        "# Numpy methods on APDLMath objects\r\n\r\nRegardless of the underlying APDLMath object type, you are generally\r\nable to perform most numpy or scipy operations on these arrays. You can\r\ndo this one of two ways. First, you can convert a matrix to a numpy\r\narray:\r\n"
      ]
    },
    {
      "cell_type": "code",
      "execution_count": null,
      "metadata": {
        "collapsed": false
      },
      "outputs": [],
      "source": [
        "apdl_mat = mm.rand(5, 5)\nnp_mat = apdl_mat.asarray()\nprint(np_mat)"
      ]
    },
    {
      "cell_type": "markdown",
      "metadata": {},
      "source": [
        "Alternatively, you can simply use numpy to compute the max of the array\r\n\r\nThis works because PyMAPDL copies over the matrix to the local python\r\nmemory and then computes the max using numpy.\r\n"
      ]
    },
    {
      "cell_type": "code",
      "execution_count": null,
      "metadata": {
        "collapsed": false
      },
      "outputs": [],
      "source": [
        "print(np.max(apdl_mat))"
      ]
    },
    {
      "cell_type": "markdown",
      "metadata": {},
      "source": [
        "This works for most numpy operations, but keep in mind that operations\r\nthat are supported within MAPDL (such as adding or multiplying arrays)\r\nwill compute much faster as the data is not copied.\r\n"
      ]
    },
    {
      "cell_type": "code",
      "execution_count": null,
      "metadata": {
        "collapsed": false
      },
      "outputs": [],
      "source": [
        "apdl_arr = mm.rand(5, 5)\nnp_array = apdl_mat.asarray()\nprint(np.allclose(apdl_mat, np_array))"
      ]
    },
    {
      "cell_type": "markdown",
      "metadata": {},
      "source": [
        "stop mapdl\r\n"
      ]
    },
    {
      "cell_type": "code",
      "execution_count": null,
      "metadata": {
        "collapsed": false
      },
      "outputs": [],
      "source": [
        "mapdl.exit()"
      ]
    }
  ],
  "metadata": {
    "kernelspec": {
      "display_name": "Python 3",
      "language": "python",
      "name": "python3"
    },
    "language_info": {
      "codemirror_mode": {
        "name": "ipython",
        "version": 3
      },
      "file_extension": ".py",
      "mimetype": "text/x-python",
      "name": "python",
      "nbconvert_exporter": "python",
      "pygments_lexer": "ipython3",
      "version": "3.10.8"
    }
  },
  "nbformat": 4,
  "nbformat_minor": 0
}