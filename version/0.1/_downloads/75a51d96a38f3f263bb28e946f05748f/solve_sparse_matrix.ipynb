{
  "cells": [
    {
      "cell_type": "markdown",
      "metadata": {},
      "source": [
        "Perform sparse factorization and solve operations\n=================================================\n\nUsing PyAnsys Math, you can solve linear systems of equations based on\nsparse or dense matrices.\n"
      ]
    },
    {
      "cell_type": "code",
      "execution_count": null,
      "metadata": {
        "collapsed": false
      },
      "outputs": [],
      "source": [
        "# Perform required imports and start PyAnsys\n# ~~~~~~~~~~~~~~~~~~~~~~~~~~~~~~~~~~~~~~~~~~\n# Perform required imports.\n\nfrom ansys.mapdl.core.examples import vmfiles\nimport matplotlib.pyplot as plt\n\nimport ansys.math.core.math as pymath\n\n# Start PyAnsys Math as a server.\nmm = pymath.AnsMath()"
      ]
    },
    {
      "cell_type": "markdown",
      "metadata": {},
      "source": [
        "Factorize and solve sparse linear systems\n=========================================\n\nRun a MAPDL solve to create a Full file. This code uses a model from the\nofficial verification manual.\n\nAfter a solve command, the `FULL` file contains the assembled stiffness\nmatrix, mass matrix, and load vector.\n"
      ]
    },
    {
      "cell_type": "code",
      "execution_count": null,
      "metadata": {
        "collapsed": false
      },
      "outputs": [],
      "source": [
        "out = mm._mapdl.input(vmfiles[\"vm152\"])"
      ]
    },
    {
      "cell_type": "markdown",
      "metadata": {},
      "source": [
        "List files in current directory\n===============================\n\nList the files in current directory.\n"
      ]
    },
    {
      "cell_type": "code",
      "execution_count": null,
      "metadata": {
        "collapsed": false
      },
      "outputs": [],
      "source": [
        "mm._mapdl.list_files()"
      ]
    },
    {
      "cell_type": "markdown",
      "metadata": {},
      "source": [
        "Extract stiffness matrix\n========================\n\nExtract the stiffness matrix from the FULL file in a sparse matrix\nformat. For help on the `stiff` function, use the `help(mm.stiff)`\ncommand.\n\nPrint dimensions of sparse matrix\n=================================\n\nPrint the dimensions of the sparse matrix.\n"
      ]
    },
    {
      "cell_type": "code",
      "execution_count": null,
      "metadata": {
        "collapsed": false
      },
      "outputs": [],
      "source": [
        "fullfile = mm._mapdl.jobname + \".full\"\nk = mm.stiff(fname=fullfile, name=\"K\")\nk"
      ]
    },
    {
      "cell_type": "markdown",
      "metadata": {},
      "source": [
        "Copy AnsMath sparse matrix to SciPy CSR matrix and plot\n=======================================================\n\nCopy the AnsMath sparse matrix to a SciPy CSR matrix. Then, plot the\ngraph of the sparse matrix.\n"
      ]
    },
    {
      "cell_type": "code",
      "execution_count": null,
      "metadata": {
        "collapsed": false
      },
      "outputs": [],
      "source": [
        "pk = k.asarray()\nplt.spy(pk, color=\"orange\", markersize=3)\nplt.title(\"AnsMath sparse matrix\")\nplt.show()"
      ]
    },
    {
      "cell_type": "markdown",
      "metadata": {},
      "source": [
        "Get a copy of sparse matrix as a NumPy array\n============================================\n\nGet a copy of the `k` sparse matrix as a NumPy array\n"
      ]
    },
    {
      "cell_type": "code",
      "execution_count": null,
      "metadata": {
        "collapsed": false
      },
      "outputs": [],
      "source": [
        "ky = k.asarray()\nky"
      ]
    },
    {
      "cell_type": "markdown",
      "metadata": {},
      "source": [
        "Extract load vector from FULL file and print norm\n=================================================\n\nExtract the load vector from the FULL file and print the norm of this\nvector.\n"
      ]
    },
    {
      "cell_type": "code",
      "execution_count": null,
      "metadata": {
        "collapsed": false
      },
      "outputs": [],
      "source": [
        "b = mm.rhs(fname=fullfile, name=\"B\")\nb.norm()"
      ]
    },
    {
      "cell_type": "markdown",
      "metadata": {},
      "source": [
        "Get a copy of load vector as a NumPy array\n==========================================\n\nGet a copy of the load vector as a NumPy array.\n"
      ]
    },
    {
      "cell_type": "code",
      "execution_count": null,
      "metadata": {
        "collapsed": false
      },
      "outputs": [],
      "source": [
        "by = b.asarray()"
      ]
    },
    {
      "cell_type": "markdown",
      "metadata": {},
      "source": [
        "Factorize stiffness matrix\n==========================\n\nFactorize the stiffness matrix using PyAnsys Math.\n"
      ]
    },
    {
      "cell_type": "code",
      "execution_count": null,
      "metadata": {
        "collapsed": false
      },
      "outputs": [],
      "source": [
        "s = mm.factorize(k)"
      ]
    },
    {
      "cell_type": "markdown",
      "metadata": {},
      "source": [
        "Solve linear system\n===================\n\nSolve the linear system.\n"
      ]
    },
    {
      "cell_type": "code",
      "execution_count": null,
      "metadata": {
        "collapsed": false
      },
      "outputs": [],
      "source": [
        "x = s.solve(b)"
      ]
    },
    {
      "cell_type": "markdown",
      "metadata": {},
      "source": [
        "Print norm\\*\\* of solution vector\n=================================\n\nPrint the norm of the solution vector.\n"
      ]
    },
    {
      "cell_type": "code",
      "execution_count": null,
      "metadata": {
        "collapsed": false
      },
      "outputs": [],
      "source": [
        "x.norm()"
      ]
    },
    {
      "cell_type": "markdown",
      "metadata": {},
      "source": [
        "Check accuracy of solution\n==========================\n\nCheck the accuracy of the solution by verifying that $KX - B = 0$.\n"
      ]
    },
    {
      "cell_type": "code",
      "execution_count": null,
      "metadata": {
        "collapsed": false
      },
      "outputs": [],
      "source": [
        "kx = k.dot(x)\nkx -= b\nprint(\"Residual error:\", kx.norm() / b.norm())"
      ]
    },
    {
      "cell_type": "markdown",
      "metadata": {},
      "source": [
        "Get a summary of allocated objects\n==================================\n\nGet a summary of all allocated AnsMath objects.\n"
      ]
    },
    {
      "cell_type": "code",
      "execution_count": null,
      "metadata": {
        "collapsed": false
      },
      "outputs": [],
      "source": [
        "mm.status()"
      ]
    },
    {
      "cell_type": "markdown",
      "metadata": {},
      "source": [
        "Delete all AnsMath objects\n==========================\n\nDelete all AnsMath objects.\n"
      ]
    },
    {
      "cell_type": "code",
      "execution_count": null,
      "metadata": {
        "collapsed": false
      },
      "outputs": [],
      "source": [
        "mm.free()"
      ]
    },
    {
      "cell_type": "markdown",
      "metadata": {},
      "source": [
        "Stop PyAnsys Math\n=================\n\nStop PyAnsys Math.\n"
      ]
    },
    {
      "cell_type": "code",
      "execution_count": null,
      "metadata": {
        "collapsed": false
      },
      "outputs": [],
      "source": [
        "mm._mapdl.exit()"
      ]
    }
  ],
  "metadata": {
    "kernelspec": {
      "display_name": "Python 3",
      "language": "python",
      "name": "python3"
    },
    "language_info": {
      "codemirror_mode": {
        "name": "ipython",
        "version": 3
      },
      "file_extension": ".py",
      "mimetype": "text/x-python",
      "name": "python",
      "nbconvert_exporter": "python",
      "pygments_lexer": "ipython3",
      "version": "3.10.14"
    }
  },
  "nbformat": 4,
  "nbformat_minor": 0
}