{
  "cells": [
    {
      "cell_type": "markdown",
      "metadata": {},
      "source": [
        "Use PyAnsys Math to solve eigenproblems {#ref_pymath_eigen_solve}\n=======================================\n\nThis example uses a verification manual input file, but you can use your\nown sparse or dense matrices.\n"
      ]
    },
    {
      "cell_type": "markdown",
      "metadata": {},
      "source": [
        "Perform required imports and start PyAnsys\n==========================================\n\nPerform required imports.\n"
      ]
    },
    {
      "cell_type": "code",
      "execution_count": null,
      "metadata": {
        "collapsed": false
      },
      "outputs": [],
      "source": [
        "import time\n\nfrom ansys.mapdl.core.examples import vmfiles\nimport matplotlib.pylab as plt\nimport numpy as np\n\nimport ansys.math.core.math as pymath\n\n# Start PyAnsys Math as a service.\nmm = pymath.AnsMath()"
      ]
    },
    {
      "cell_type": "markdown",
      "metadata": {},
      "source": [
        "Get matrices\n============\n\nRun the input file from Verification Manual 153 and then get the stiff\n(`k`) and mass (`m`) matrices from the FULL file.\n"
      ]
    },
    {
      "cell_type": "code",
      "execution_count": null,
      "metadata": {
        "collapsed": false
      },
      "outputs": [],
      "source": [
        "out = mm._mapdl.input(vmfiles[\"vm153\"])\nfullfile = mm._mapdl.jobname + \".full\"\nk = mm.stiff(fname=fullfile)\nm = mm.mass(fname=fullfile)"
      ]
    },
    {
      "cell_type": "markdown",
      "metadata": {},
      "source": [
        "Display size of the matrices\n============================\n\nDisplay size of the `k` and `m` matrices.\n"
      ]
    },
    {
      "cell_type": "code",
      "execution_count": null,
      "metadata": {
        "collapsed": false
      },
      "outputs": [],
      "source": [
        "print(m.shape)\nprint(k.shape)"
      ]
    },
    {
      "cell_type": "markdown",
      "metadata": {},
      "source": [
        "Allocate an array to store eigenshapes\n======================================\n\nAllocate an array to store the eigenshapes, where `nev`\\` is the number\nof eigenvalues requested,\n"
      ]
    },
    {
      "cell_type": "code",
      "execution_count": null,
      "metadata": {
        "collapsed": false
      },
      "outputs": [],
      "source": [
        "nev = 10\na = mm.mat(k.nrow, nev)\na"
      ]
    },
    {
      "cell_type": "markdown",
      "metadata": {},
      "source": [
        "Perform modal analysis\n======================\n\nPerform the modal analysis.\n\nThe algorithm is automatically chosen with respect to the properties of\nthe matrices (such as scalar, storage, or symmetry).\n"
      ]
    },
    {
      "cell_type": "code",
      "execution_count": null,
      "metadata": {
        "collapsed": false
      },
      "outputs": [],
      "source": [
        "print(\"Calling PyAnsys Math to solve the eigenproblem...\")\n\nt1 = time.time()\nev = mm.eigs(nev, k, m, phi=a)\nprint(f\"Elapsed time to solve this problem: {time.time() - t1}\")"
      ]
    },
    {
      "cell_type": "markdown",
      "metadata": {},
      "source": [
        "Print eigenfrequencies\n======================\n\nPrint the vector of eigenfrequencies.\n"
      ]
    },
    {
      "cell_type": "code",
      "execution_count": null,
      "metadata": {
        "collapsed": false
      },
      "outputs": [],
      "source": [
        "print(ev)"
      ]
    },
    {
      "cell_type": "markdown",
      "metadata": {},
      "source": [
        "Verify the accuracy of eigenresults\n===================================\n\nCheck the residual error for the first eigenresult:\n$R_1=||(K-\\lambda_1.M).\\phi_1||_2$\n\nFirst, compute $\\lambda_1 = \\omega_1^2 = (2.\\pi.f_1)^2$\n"
      ]
    },
    {
      "cell_type": "code",
      "execution_count": null,
      "metadata": {
        "collapsed": false
      },
      "outputs": [],
      "source": [
        "# Eigenfrequency (Hz)\ni = 0\nf = ev[0]\nomega = 2 * np.pi * f\nlam = omega * omega"
      ]
    },
    {
      "cell_type": "markdown",
      "metadata": {},
      "source": [
        "Then get the first eigenshape $\\phi_1$ and compute both $K.\\phi_1$ and\n$M.\\phi_1$.\n"
      ]
    },
    {
      "cell_type": "code",
      "execution_count": null,
      "metadata": {
        "collapsed": false
      },
      "outputs": [],
      "source": [
        "# shape\nphi = a[0]\n\n# APDL command: *MULT,K,,Phi,,KPhi\nkphi = k.dot(phi)\n\n# APDL command: *MULT,M,,Phi,,MPhi\nmphi = m.dot(phi)"
      ]
    },
    {
      "cell_type": "markdown",
      "metadata": {},
      "source": [
        "Next, compute the $||K.\\phi_1||_2$ quantity and normalize the residual\nvalue.\n"
      ]
    },
    {
      "cell_type": "code",
      "execution_count": null,
      "metadata": {
        "collapsed": false
      },
      "outputs": [],
      "source": [
        "# APDL command: *MULT,K,,Phi,,KPhi\nkphi = k.dot(phi)\n\n\n# APDL command: *NRM,KPhi,NRM2,KPhiNrm\nkphinrm = kphi.norm()"
      ]
    },
    {
      "cell_type": "markdown",
      "metadata": {},
      "source": [
        "Add these two vectors, using the $\\lambda_1$ scalar factor, and compute\nthe normalized residual value: $\\frac{R_1}{||K.\\phi_1||_2}$\n"
      ]
    },
    {
      "cell_type": "code",
      "execution_count": null,
      "metadata": {
        "collapsed": false
      },
      "outputs": [],
      "source": [
        "# APDL command: *AXPY,-lambda,,MPhi,1,,KPhi\nmphi *= lam\nkphi -= mphi\n\n# Compute residual\nres = kphi.norm() / kphinrm\nprint(res)"
      ]
    },
    {
      "cell_type": "markdown",
      "metadata": {},
      "source": [
        "Compute this residual for all eigenmodes\n"
      ]
    },
    {
      "cell_type": "code",
      "execution_count": null,
      "metadata": {
        "collapsed": false
      },
      "outputs": [],
      "source": [
        "def get_res(i):\n    \"\"\"Compute the residual for a given eigenmode.\"\"\"\n    # Eigenfrequency (Hz)\n    f = ev[i]\n\n    # omega = 2.pi.Frequency\n    omega = 2 * np.pi * f\n\n    # lambda = omega^2\n    lam = omega * omega\n\n    # i-th eigenshape\n    phi = a[i]\n\n    # K.Phi\n    kphi = k.dot(phi)\n\n    # M.Phi\n    mphi = m.dot(phi)\n\n    # Normalize scalar value\n    kphinrm = kphi.norm()\n\n    # (K-\\lambda.M).Phi\n    mphi *= lam\n    kphi -= mphi\n\n    # Return the residual\n    return kphi.norm() / kphinrm\n\n\npymath_acc = np.zeros(nev)\n\nfor i in range(nev):\n    f = ev[i]\n    pymath_acc[i] = get_res(i)\n    print(f\"[{i}] : Freq = {f}\\t - Residual = {pymath_acc[i]}\")"
      ]
    },
    {
      "cell_type": "markdown",
      "metadata": {},
      "source": [
        "Plot accuracy of eigenresults\n=============================\n\nPlot tahe accuracy of the eigenresults.\n"
      ]
    },
    {
      "cell_type": "code",
      "execution_count": null,
      "metadata": {
        "collapsed": false
      },
      "outputs": [],
      "source": [
        "fig = plt.figure(figsize=(12, 10))\nax = plt.axes()\nx = np.linspace(1, nev, nev)\nplt.title(\"PyAnsys Math Residual Error (%)\")\nplt.yscale(\"log\")\nplt.ylim([10e-13, 10e-7])\nplt.xlabel(\"Frequency #\")\nplt.ylabel(\"Errors (%)\")\nax.bar(x, pymath_acc, label=\"PyAnsys Math Results\", color=\"orange\")\nplt.show()"
      ]
    },
    {
      "cell_type": "markdown",
      "metadata": {},
      "source": [
        "Stop PyAnsys Math\n=================\n\nStop PyAnsys Math.\n"
      ]
    },
    {
      "cell_type": "code",
      "execution_count": null,
      "metadata": {
        "collapsed": false
      },
      "outputs": [],
      "source": [
        "mm._mapdl.exit()"
      ]
    }
  ],
  "metadata": {
    "kernelspec": {
      "display_name": "Python 3",
      "language": "python",
      "name": "python3"
    },
    "language_info": {
      "codemirror_mode": {
        "name": "ipython",
        "version": 3
      },
      "file_extension": ".py",
      "mimetype": "text/x-python",
      "name": "python",
      "nbconvert_exporter": "python",
      "pygments_lexer": "ipython3",
      "version": "3.10.14"
    }
  },
  "nbformat": 4,
  "nbformat_minor": 0
}