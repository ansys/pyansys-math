{
  "cells": [
    {
      "cell_type": "markdown",
      "metadata": {},
      "source": [
        "AnsMath sparse matrices and SciPy sparse matrices\n=================================================\n\nThis example shows how to get AnsMath sparse matrices into SciPy sparse\nmatrices.\n"
      ]
    },
    {
      "cell_type": "markdown",
      "metadata": {},
      "source": [
        "Perform required imports and start PyAnsys\n==========================================\n\nPerform required imports.\n"
      ]
    },
    {
      "cell_type": "code",
      "execution_count": null,
      "metadata": {
        "collapsed": false
      },
      "outputs": [],
      "source": [
        "from ansys.mapdl.core.examples import vmfiles\nimport matplotlib.pylab as plt\n\nimport ansys.math.core.math as pymath\n\n# Start PyAnsys Math as a service.\nmm = pymath.AnsMath()"
      ]
    },
    {
      "cell_type": "markdown",
      "metadata": {},
      "source": [
        "Get matrices\n============\n\nRun the input file from Verification Manual 153 and then get the stiff\n(`k`) matrix from the FULL file.\n"
      ]
    },
    {
      "cell_type": "code",
      "execution_count": null,
      "metadata": {
        "collapsed": false
      },
      "outputs": [],
      "source": [
        "out = mm._mapdl.input(vmfiles[\"vm153\"])\nfullfile = mm._mapdl.jobname + \".full\"\nk = mm.stiff(fname=fullfile)"
      ]
    },
    {
      "cell_type": "markdown",
      "metadata": {},
      "source": [
        "Copy AnsMath sparse matrix to SciPy CSR matrix and plot\n=======================================================\n\nCopy the AnsMath sparse matrix to a SciPy CSR matrix. Then, plot the\ngraph of the sparse matrix.\n"
      ]
    },
    {
      "cell_type": "code",
      "execution_count": null,
      "metadata": {
        "collapsed": false
      },
      "outputs": [],
      "source": [
        "pk = k.asarray()\nplt.spy(pk, color=\"orange\", markersize=3)\nplt.title(\"AnsMath sparse matrix\")\nplt.show()"
      ]
    },
    {
      "cell_type": "markdown",
      "metadata": {},
      "source": [
        "Access vectors\n==============\n\nYou can access the three vectors that describe this sparse matrix with:\n\n-   `pk.data`\n-   `pk.indices`\n-   `pk.indptr`\n\nFor more information, see SciPy\\'s class description for the [CSR\n(compressed sparse row)\nmatrix](https://docs.scipy.org/doc/scipy/reference/generated/scipy.sparse.csr_matrix.html).\n"
      ]
    },
    {
      "cell_type": "code",
      "execution_count": null,
      "metadata": {
        "collapsed": false
      },
      "outputs": [],
      "source": [
        "print(pk.data[:10])\nprint(pk.indices[:10])\nprint(pk.indptr[:10])"
      ]
    },
    {
      "cell_type": "markdown",
      "metadata": {},
      "source": [
        "Create AnsMath sparse matrix from SciPy sparse CSR matrix\n=========================================================\n\nCreate an AnsMath sparse matrix from a SciPy sparse CSR matrix. Then,\ntransfer the SciPy CSR matrix back to PyAnsys Math.\n\nWhile this code uses a matrix that was originally within MAPDL, you can\nload any CSR matrix into PyAnsys Math.\n"
      ]
    },
    {
      "cell_type": "code",
      "execution_count": null,
      "metadata": {
        "collapsed": false
      },
      "outputs": [],
      "source": [
        "my_mat = mm.matrix(pk, \"my_mat\", triu=True)\nmy_mat"
      ]
    },
    {
      "cell_type": "markdown",
      "metadata": {},
      "source": [
        "Check that the matrices `k` and `my_mat` are exactly the sames. The norm\nof the difference should be zero.\n"
      ]
    },
    {
      "cell_type": "code",
      "execution_count": null,
      "metadata": {
        "collapsed": false
      },
      "outputs": [],
      "source": [
        "msub = k - my_mat\nmm.norm(msub)"
      ]
    },
    {
      "cell_type": "markdown",
      "metadata": {},
      "source": [
        "Print CSR representation in PyAnsys Math\n========================================\n\nPrinting the list of objects for the CSR representation in the PyAnsys\nMath space finds these objects:\n\n-   Two SMAT objects, corresponding to the `k`, `MSub` matrices, with\n    encrypted names.\n-   The `my_mat` SMAT object. Its size is zero because the three vectors\n    are stored separately.\n-   The three vectors of the CSR `my_mat` structure: `MY_MAT_PTR`,\n    `MY_MAT_IND`, and `MY_MAT_DATA`.\n"
      ]
    },
    {
      "cell_type": "code",
      "execution_count": null,
      "metadata": {
        "collapsed": false
      },
      "outputs": [],
      "source": [
        "mm.status()"
      ]
    },
    {
      "cell_type": "markdown",
      "metadata": {},
      "source": [
        "Access ID of Python object\n==========================\n\nTo determine which PyAnsys Math object corresponds to which Python\nobject, access the `id` property of the Python object.\n"
      ]
    },
    {
      "cell_type": "code",
      "execution_count": null,
      "metadata": {
        "collapsed": false
      },
      "outputs": [],
      "source": [
        "print(\"name(k)=\" + k.id)\nprint(\"name(my_mat)=\" + my_mat.id)\nprint(\"name(msub)=\" + msub.id)"
      ]
    },
    {
      "cell_type": "markdown",
      "metadata": {},
      "source": [
        "Stop PyAnsys Math\n=================\n\nStop PyAnsys Math.\n"
      ]
    },
    {
      "cell_type": "code",
      "execution_count": null,
      "metadata": {
        "collapsed": false
      },
      "outputs": [],
      "source": [
        "mm._mapdl.exit()"
      ]
    }
  ],
  "metadata": {
    "kernelspec": {
      "display_name": "Python 3",
      "language": "python",
      "name": "python3"
    },
    "language_info": {
      "codemirror_mode": {
        "name": "ipython",
        "version": 3
      },
      "file_extension": ".py",
      "mimetype": "text/x-python",
      "name": "python",
      "nbconvert_exporter": "python",
      "pygments_lexer": "ipython3",
      "version": "3.10.14"
    }
  },
  "nbformat": 4,
  "nbformat_minor": 0
}