{
  "cells": [
    {
      "cell_type": "markdown",
      "metadata": {},
      "source": [
        "PyAnsys Math basic operations {#ref_pyansys-math_basic}\n=============================\n\nThis tutorial shows how you can use PyAnsys Math for basic operations on\nAnsMath vectors and matrices in the APDL memory workspace.\n"
      ]
    },
    {
      "cell_type": "markdown",
      "metadata": {},
      "source": [
        "Perform required imports and start PyAnsys\n==========================================\n\nPerform required imports.\n"
      ]
    },
    {
      "cell_type": "code",
      "execution_count": null,
      "metadata": {
        "collapsed": false
      },
      "outputs": [],
      "source": [
        "import matplotlib.pyplot as plt\nimport numpy as np\n\nimport ansys.math.core.math as pymath\n\n# Start PyAnsys Math as a service.\nmm = pymath.AnsMath()"
      ]
    },
    {
      "cell_type": "markdown",
      "metadata": {},
      "source": [
        "Create and manipulate vectors\n=============================\n\nCreate two AnsMath vectors of size 5. The $\\vec{v}$ method is\ninitialized with ones, and the $\\vec{w}$ is filled with random values.\n"
      ]
    },
    {
      "cell_type": "code",
      "execution_count": null,
      "metadata": {
        "collapsed": false
      },
      "outputs": [],
      "source": [
        "v = mm.ones(2)\nw = mm.rand(2)\nprint(v)\nprint(w)"
      ]
    },
    {
      "cell_type": "markdown",
      "metadata": {},
      "source": [
        "Plot vectors\n============\n\nPlot the created vectors.\n"
      ]
    },
    {
      "cell_type": "code",
      "execution_count": null,
      "metadata": {
        "collapsed": false
      },
      "outputs": [],
      "source": [
        "origin = np.array([[0, 0], [0, 0]])\nplt.title(\"Vectors V and W\")\nplt.quiver(*origin, v, w, angles=\"xy\", scale_units=\"xy\", scale=1, color=[\"orange\", \"gray\"])\nplt.xlim(-1.5, 1.5)\nplt.ylim(-1.5, 1.5)\nplt.show()"
      ]
    },
    {
      "cell_type": "markdown",
      "metadata": {},
      "source": [
        "Use operators on vectors\n========================\n\nLike NumPy vectors, AnsMath vectors can use most of the standard\noperators, such as `+`, `-`, `+=`, `-=`, and `*=`.\n\nHere this form is used: $\\vec{z}=\\vec{v}+\\vec{w}$\n\nCompute $\\|z\\|_2$. (The default norm is nrm2. Note that you can use\n`.norm('nrm1')` or `.norm('nrminf')` for different normals. For more\ninformation, see [help(z.norm)]{.title-ref}.\n"
      ]
    },
    {
      "cell_type": "code",
      "execution_count": null,
      "metadata": {
        "collapsed": false
      },
      "outputs": [],
      "source": [
        "z = v + w\nz.norm()"
      ]
    },
    {
      "cell_type": "markdown",
      "metadata": {},
      "source": [
        "Methods\n=======\n\nAlternatively you can use methods, following the NumPy standards.\nAvailable methods are:\n\n-   `mm.add()`\n-   `mm.subtract()`\n-   `mm.dot()`\n\nEquivalent operator for addition: `z = v + w`\n"
      ]
    },
    {
      "cell_type": "code",
      "execution_count": null,
      "metadata": {
        "collapsed": false
      },
      "outputs": [],
      "source": [
        "z = mm.add(v, w)\nz.norm()"
      ]
    },
    {
      "cell_type": "markdown",
      "metadata": {},
      "source": [
        "Equivalent operator for subtraction: `z = v - w`\n"
      ]
    },
    {
      "cell_type": "code",
      "execution_count": null,
      "metadata": {
        "collapsed": false
      },
      "outputs": [],
      "source": [
        "z = mm.subtract(v, w)\nprint(z)"
      ]
    },
    {
      "cell_type": "markdown",
      "metadata": {},
      "source": [
        "Equivalent dot operation for the product of two vectors:\n"
      ]
    },
    {
      "cell_type": "code",
      "execution_count": null,
      "metadata": {
        "collapsed": false
      },
      "outputs": [],
      "source": [
        "vw = mm.dot(v, w)\nprint(\"Dot product :\", str(vw))"
      ]
    },
    {
      "cell_type": "markdown",
      "metadata": {},
      "source": [
        "Perform in-place operations (without copying vectors)\n=====================================================\n\nPerform in-place addition.\n"
      ]
    },
    {
      "cell_type": "code",
      "execution_count": null,
      "metadata": {
        "collapsed": false
      },
      "outputs": [],
      "source": [
        "v += v\nprint(v)"
      ]
    },
    {
      "cell_type": "markdown",
      "metadata": {},
      "source": [
        "Perform in-place multiplication.\n"
      ]
    },
    {
      "cell_type": "code",
      "execution_count": null,
      "metadata": {
        "collapsed": false
      },
      "outputs": [],
      "source": [
        "v *= 2\nprint(v)"
      ]
    },
    {
      "cell_type": "markdown",
      "metadata": {},
      "source": [
        "Perform another in-place multiplication.\n"
      ]
    },
    {
      "cell_type": "code",
      "execution_count": null,
      "metadata": {
        "collapsed": false
      },
      "outputs": [],
      "source": [
        "v /= 2.0\nprint(v)"
      ]
    },
    {
      "cell_type": "markdown",
      "metadata": {},
      "source": [
        "Working with dense matrices\n===========================\n\nAllocate two dense matrices with random values.\n"
      ]
    },
    {
      "cell_type": "code",
      "execution_count": null,
      "metadata": {
        "collapsed": false
      },
      "outputs": [],
      "source": [
        "m1 = mm.rand(4, 5)\nm2 = mm.ones(4, 5)\nm1, m2"
      ]
    },
    {
      "cell_type": "markdown",
      "metadata": {},
      "source": [
        "Add these 2 dense matrices and then scale the result matrix.\n"
      ]
    },
    {
      "cell_type": "code",
      "execution_count": null,
      "metadata": {
        "collapsed": false
      },
      "outputs": [],
      "source": [
        "m3 = m1 + m2\nprint(m3)\n\nm3 *= 2\nprint(m3)"
      ]
    },
    {
      "cell_type": "markdown",
      "metadata": {},
      "source": [
        "Transpose a matrix.\n"
      ]
    },
    {
      "cell_type": "code",
      "execution_count": null,
      "metadata": {
        "collapsed": false
      },
      "outputs": [],
      "source": [
        "m4 = m3.T\nprint(m4)"
      ]
    },
    {
      "cell_type": "markdown",
      "metadata": {},
      "source": [
        "As for vectors, methods are available as an alternative to operators.\n"
      ]
    },
    {
      "cell_type": "code",
      "execution_count": null,
      "metadata": {
        "collapsed": false
      },
      "outputs": [],
      "source": [
        "m3 = mm.add(m1, m2)\nprint(m3)"
      ]
    },
    {
      "cell_type": "markdown",
      "metadata": {},
      "source": [
        "Compute a matrix vector multiplication.\n"
      ]
    },
    {
      "cell_type": "code",
      "execution_count": null,
      "metadata": {
        "collapsed": false
      },
      "outputs": [],
      "source": [
        "mw = m3.dot(m4)\nprint(mw)"
      ]
    },
    {
      "cell_type": "markdown",
      "metadata": {},
      "source": [
        "AnsMath matrices can be identified by printing, viewing their types, or\nusing the `__repr__` method by simply typing out the variable.\n\nHere is an example with an AnsMath matrix.\n"
      ]
    },
    {
      "cell_type": "code",
      "execution_count": null,
      "metadata": {
        "collapsed": false
      },
      "outputs": [],
      "source": [
        "type(m1)\nprint(m1)\nm1"
      ]
    },
    {
      "cell_type": "markdown",
      "metadata": {},
      "source": [
        "Here is an example with an AnsMath vector.\n"
      ]
    },
    {
      "cell_type": "code",
      "execution_count": null,
      "metadata": {
        "collapsed": false
      },
      "outputs": [],
      "source": [
        "type(w)\nprint(w)\nw"
      ]
    },
    {
      "cell_type": "markdown",
      "metadata": {},
      "source": [
        "Use NumPy methods on AnsMath objects\n====================================\n\nRegardless of the underlying AnsMath object type, you are generally able\nto perform most NumPy or SciPy operations on these arrays. You can do\nthis in one of two ways.\n\nYou can convert a matrix to a NumPy array.\n"
      ]
    },
    {
      "cell_type": "code",
      "execution_count": null,
      "metadata": {
        "collapsed": false
      },
      "outputs": [],
      "source": [
        "apdl_mat = mm.rand(5, 5)\nnp_mat = apdl_mat.asarray()\nprint(np_mat)"
      ]
    },
    {
      "cell_type": "markdown",
      "metadata": {},
      "source": [
        "Alternatively, you can use NumPy to compute the maximum of the array.\n\nThis works because PyAnsys Math copies over the matrix to the local\nPython memory and then computes the maximum using NumPy.\n"
      ]
    },
    {
      "cell_type": "code",
      "execution_count": null,
      "metadata": {
        "collapsed": false
      },
      "outputs": [],
      "source": [
        "print(np.max(apdl_mat))"
      ]
    },
    {
      "cell_type": "markdown",
      "metadata": {},
      "source": [
        "While this works for most NumPy operations, keep in mind that operations\nsupported within PyAnsys Math (such as adding or multiplying arrays)\ncompute much faster because the data is not copied.\n"
      ]
    },
    {
      "cell_type": "code",
      "execution_count": null,
      "metadata": {
        "collapsed": false
      },
      "outputs": [],
      "source": [
        "apdl_arr = mm.rand(5, 5)\nnp_array = apdl_mat.asarray()\nprint(np.allclose(apdl_mat, np_array))"
      ]
    },
    {
      "cell_type": "markdown",
      "metadata": {},
      "source": [
        "Stop PyAnsys Math\n=================\n\nStop PyAnsys Math.\n"
      ]
    },
    {
      "cell_type": "code",
      "execution_count": null,
      "metadata": {
        "collapsed": false
      },
      "outputs": [],
      "source": [
        "mm._mapdl.exit()"
      ]
    }
  ],
  "metadata": {
    "kernelspec": {
      "display_name": "Python 3",
      "language": "python",
      "name": "python3"
    },
    "language_info": {
      "codemirror_mode": {
        "name": "ipython",
        "version": 3
      },
      "file_extension": ".py",
      "mimetype": "text/x-python",
      "name": "python",
      "nbconvert_exporter": "python",
      "pygments_lexer": "ipython3",
      "version": "3.10.14"
    }
  },
  "nbformat": 4,
  "nbformat_minor": 0
}