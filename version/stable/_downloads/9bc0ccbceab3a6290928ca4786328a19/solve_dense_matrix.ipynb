{
  "cells": [
    {
      "cell_type": "markdown",
      "metadata": {},
      "source": [
        "Use PyAnsys Math to solve a dense matrix linear system\n======================================================\n\nThis example shows how to use PyAnsys Math to solve a dense matrix\nlinear system.\n"
      ]
    },
    {
      "cell_type": "code",
      "execution_count": null,
      "metadata": {
        "collapsed": false
      },
      "outputs": [],
      "source": [
        "# Perform required imports and start PyAnsys\n# ~~~~~~~~~~~~~~~~~~~~~~~~~~~~~~~~~~~~~~~~~~\n# Perform required imports.\n\nimport time\n\nimport matplotlib.pyplot as plt\nimport numpy.linalg as npl\n\nimport ansys.math.core.math as pymath\n\n# Start PyAnsys Math as a server.\nmm = pymath.AnsMath()"
      ]
    },
    {
      "cell_type": "markdown",
      "metadata": {},
      "source": [
        "Allocate dense matrix\n=====================\n\nAllocate a dense matrix in the MAPDL workspace.\n"
      ]
    },
    {
      "cell_type": "code",
      "execution_count": null,
      "metadata": {
        "collapsed": false
      },
      "outputs": [],
      "source": [
        "mm._mapdl.clear()\ndim = 1000\na = mm.rand(dim, dim)\nb = mm.rand(dim)\nx = mm.zeros(dim)"
      ]
    },
    {
      "cell_type": "markdown",
      "metadata": {},
      "source": [
        "Copy matrices as NumPy arrays\n=============================\n\nCopy the matrices as NumPy arrays before they are modified by a\nfactorization call.\n"
      ]
    },
    {
      "cell_type": "code",
      "execution_count": null,
      "metadata": {
        "collapsed": false
      },
      "outputs": [],
      "source": [
        "a_py = a.asarray()\nb_py = b.asarray()"
      ]
    },
    {
      "cell_type": "markdown",
      "metadata": {},
      "source": [
        "Solve using PyAnsys Math\n========================\n\nSolve the dense matrix linear system using PyAnsys Math.\n"
      ]
    },
    {
      "cell_type": "code",
      "execution_count": null,
      "metadata": {
        "collapsed": false
      },
      "outputs": [],
      "source": [
        "print(f\"Solving a ({dim} x {dim}) dense linear system using PyAnsys Math...\")\n\nt1 = time.time()\ns = mm.factorize(a)\nx = s.solve(b, x)\nt2 = time.time()\npymath_time = t2 - t1\nprint(f\"Elapsed time to solve the linear system using PyAnsys Math: {pymath_time} seconds\")"
      ]
    },
    {
      "cell_type": "markdown",
      "metadata": {},
      "source": [
        "Get norm of solution\n====================\n\nGet the norm of the PyAnsys Math solution.\n"
      ]
    },
    {
      "cell_type": "code",
      "execution_count": null,
      "metadata": {
        "collapsed": false
      },
      "outputs": [],
      "source": [
        "mm.norm(x)"
      ]
    },
    {
      "cell_type": "markdown",
      "metadata": {},
      "source": [
        "Solve using NumPy\n=================\n\nSolve the dense matrix linear system using NumPy.\n"
      ]
    },
    {
      "cell_type": "code",
      "execution_count": null,
      "metadata": {
        "collapsed": false
      },
      "outputs": [],
      "source": [
        "print(f\"Solving a ({dim} x {dim}) dense linear system using NumPy...\")\n\nt1 = time.time()\nx_py = npl.solve(a_py, b_py)\nt2 = time.time()\nnumpy_time = t2 - t1\nprint(f\"Elapsed time to solve the linear system using NumPy: {numpy_time} seconds\")"
      ]
    },
    {
      "cell_type": "markdown",
      "metadata": {},
      "source": [
        "Plot elapsed times\n==================\n\nPlot the elapsed times for PyAnsys Math and Numpy to solve the dense\nmatrix linear system.\n"
      ]
    },
    {
      "cell_type": "code",
      "execution_count": null,
      "metadata": {
        "collapsed": false
      },
      "outputs": [],
      "source": [
        "max_time = max(pymath_time, numpy_time)\nfig = plt.figure(figsize=(12, 10))\nax = plt.axes()\nx = [\"PyAnsys Math\", \"NumPy\"]\ny = [pymath_time, numpy_time]\nplt.title(\"Elapsed time to solve the linear system\")\nplt.ylim([0, max_time + 0.2 * max_time])\nplt.ylabel(\"Elapsed time (s)\")\nax.bar(x, y, color=\"orange\")\nplt.show()"
      ]
    },
    {
      "cell_type": "markdown",
      "metadata": {},
      "source": [
        "Get norm of solution\n====================\n\nGet the norm of the NumPy solution.\n"
      ]
    },
    {
      "cell_type": "code",
      "execution_count": null,
      "metadata": {
        "collapsed": false
      },
      "outputs": [],
      "source": [
        "npl.norm(x_py)"
      ]
    },
    {
      "cell_type": "markdown",
      "metadata": {},
      "source": [
        "Stop PyAnsys Math\n=================\n\nStop PyAnsys Math.\n"
      ]
    },
    {
      "cell_type": "code",
      "execution_count": null,
      "metadata": {
        "collapsed": false
      },
      "outputs": [],
      "source": [
        "mm._mapdl.exit()"
      ]
    }
  ],
  "metadata": {
    "kernelspec": {
      "display_name": "Python 3",
      "language": "python",
      "name": "python3"
    },
    "language_info": {
      "codemirror_mode": {
        "name": "ipython",
        "version": 3
      },
      "file_extension": ".py",
      "mimetype": "text/x-python",
      "name": "python",
      "nbconvert_exporter": "python",
      "pygments_lexer": "ipython3",
      "version": "3.10.14"
    }
  },
  "nbformat": 4,
  "nbformat_minor": 0
}