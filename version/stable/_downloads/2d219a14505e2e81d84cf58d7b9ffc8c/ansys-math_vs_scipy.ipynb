{
  "cells": [
    {
      "cell_type": "markdown",
      "metadata": {},
      "source": [
        "Compute Eigenvalues using PyAnsys Math and SciPy {#ref_ansys_math_vs_scipy}\n================================================\n\nThis example shows how to perform these tasks:\n\n-   Extract the stiffness and mass matrices from an MAPDL model.\n-   Use PyAnsys Math to compute the first eigenvalues.\n-   Get these matrices using SciPy to obtain the same solutions using\n    Python resources.\n-   See if PyAnsys Math is more accurate and faster than SciPy.\n"
      ]
    },
    {
      "cell_type": "markdown",
      "metadata": {},
      "source": [
        "Perform required imports and start PyAnsys Math\n===============================================\n\nPerform required imports.\n"
      ]
    },
    {
      "cell_type": "code",
      "execution_count": null,
      "metadata": {
        "collapsed": false
      },
      "outputs": [],
      "source": [
        "import math\nimport time\n\nfrom ansys.mapdl.core.examples import examples\nimport matplotlib.pylab as plt\nimport numpy as np\nimport scipy\nfrom scipy.sparse.linalg import eigsh\n\nimport ansys.math.core.math as pymath\n\n# Start PyAnsys Math as a service.\nmm = pymath.AnsMath()"
      ]
    },
    {
      "cell_type": "markdown",
      "metadata": {},
      "source": [
        "Load the input file\n===================\n\nLoad the input file using MAPDL.\n"
      ]
    },
    {
      "cell_type": "code",
      "execution_count": null,
      "metadata": {
        "collapsed": false
      },
      "outputs": [],
      "source": [
        "print(mm._mapdl.input(examples.wing_model))"
      ]
    },
    {
      "cell_type": "markdown",
      "metadata": {},
      "source": [
        "Plot and mesh\n=============\n\nPlot and mesh using the `eplot` method.\n"
      ]
    },
    {
      "cell_type": "code",
      "execution_count": null,
      "metadata": {
        "collapsed": false
      },
      "outputs": [],
      "source": [
        "mm._mapdl.eplot()"
      ]
    },
    {
      "cell_type": "markdown",
      "metadata": {},
      "source": [
        "Set up modal analysis\n=====================\n\nSet up a modal analysis and form the $K$ and $M$ matrices. MAPDL stores\nthese matrices in a `.FULL` file.\n"
      ]
    },
    {
      "cell_type": "code",
      "execution_count": null,
      "metadata": {
        "collapsed": false
      },
      "outputs": [],
      "source": [
        "print(mm._mapdl.slashsolu())\nprint(mm._mapdl.antype(antype=\"MODAL\"))\nprint(mm._mapdl.modopt(method=\"LANB\", nmode=\"10\", freqb=\"1.\"))\nprint(mm._mapdl.wrfull(ldstep=\"1\"))\n\n# store the output of the solve command\noutput = mm._mapdl.solve()"
      ]
    },
    {
      "cell_type": "markdown",
      "metadata": {},
      "source": [
        "Read sparse matrices\n====================\n\nRead the sparse matrices using PyAnsys Math.\n"
      ]
    },
    {
      "cell_type": "code",
      "execution_count": null,
      "metadata": {
        "collapsed": false
      },
      "outputs": [],
      "source": [
        "mm._mapdl.finish()\nmm.free()\nk = mm.stiff(fname=\"file.full\")\nM = mm.mass(fname=\"file.full\")"
      ]
    },
    {
      "cell_type": "markdown",
      "metadata": {},
      "source": [
        "Solve eigenproblem\n==================\n\nSolve the eigenproblme using PyAnsys Math.\n"
      ]
    },
    {
      "cell_type": "code",
      "execution_count": null,
      "metadata": {
        "collapsed": false
      },
      "outputs": [],
      "source": [
        "nev = 10\nA = mm.mat(k.nrow, nev)\n\nt1 = time.time()\nev = mm.eigs(nev, k, M, phi=A, fmin=1.0)\nt2 = time.time()\npymath_elapsed_time = t2 - t1\nprint(\"\\nElapsed time to solve this problem : \", pymath_elapsed_time)"
      ]
    },
    {
      "cell_type": "markdown",
      "metadata": {},
      "source": [
        "Print eigenfrequencies and accuracy\n===================================\n\nPrint the eigenfrequencies and the accuracy.\n\nAccuracy : $\\frac{||(K-\\lambda.M).\\phi||_2}{||K.\\phi||_2}$\n"
      ]
    },
    {
      "cell_type": "code",
      "execution_count": null,
      "metadata": {
        "collapsed": false
      },
      "outputs": [],
      "source": [
        "pymath_acc = np.empty(nev)\n\nfor i in range(nev):\n    f = ev[i]  # Eigenfrequency (Hz)\n    omega = 2 * np.pi * f  # omega = 2.pi.Frequency\n    lam = omega**2  # lambda = omega^2\n\n    phi = A[i]  # i-th eigenshape\n    kphi = k.dot(phi)  # K.Phi\n    mphi = M.dot(phi)  # M.Phi\n\n    kphi_nrm = kphi.norm()  # Normalization scalar value\n\n    mphi *= lam  # (K-\\lambda.M).Phi\n    kphi -= mphi\n\n    pymath_acc[i] = kphi.norm() / kphi_nrm  # compute the residual\n    print(f\"[{i}] : Freq = {f:8.2f} Hz\\t Residual = {pymath_acc[i]:.5}\")"
      ]
    },
    {
      "cell_type": "markdown",
      "metadata": {},
      "source": [
        "Use SciPy to solve the same eigenproblem\n========================================\n\nGet the MAPDL sparse matrices into Python memory as SciPy matrices.\n"
      ]
    },
    {
      "cell_type": "code",
      "execution_count": null,
      "metadata": {
        "collapsed": false
      },
      "outputs": [],
      "source": [
        "pk = k.asarray()\npm = M.asarray()\n\n# get_ipython().run_line_magic('matplotlib', 'inline')\n\nfig, (ax1, ax2) = plt.subplots(1, 2)\nfig.suptitle(\"K and M Matrix profiles\")\nax1.spy(pk, markersize=0.01)\nax1.set_title(\"K Matrix\")\nax2.spy(pm, markersize=0.01)\nax2.set_title(\"M Matrix\")\nplt.show(block=True)"
      ]
    },
    {
      "cell_type": "markdown",
      "metadata": {},
      "source": [
        "Make the sparse matrices for SciPy unsymmetric because symmetric\nmatrices in SciPy are memory inefficient.\n\n$K = K + K^T - diag(K)$\n"
      ]
    },
    {
      "cell_type": "code",
      "execution_count": null,
      "metadata": {
        "collapsed": false
      },
      "outputs": [],
      "source": [
        "pkd = scipy.sparse.diags(pk.diagonal())\npK = pk + pk.transpose() - pkd\npmd = scipy.sparse.diags(pm.diagonal())\npm = pm + pm.transpose() - pmd"
      ]
    },
    {
      "cell_type": "markdown",
      "metadata": {},
      "source": [
        "Plot the matrices.\n"
      ]
    },
    {
      "cell_type": "code",
      "execution_count": null,
      "metadata": {
        "collapsed": false
      },
      "outputs": [],
      "source": [
        "fig, (ax1, ax2) = plt.subplots(1, 2)\nfig.suptitle(\"K and M Matrix profiles\")\nax1.spy(pk, markersize=0.01)\nax1.set_title(\"K Matrix\")\nax2.spy(pm, markersize=0.01)\nax2.set_title(\"M Matrix\")\nplt.show(block=True)"
      ]
    },
    {
      "cell_type": "markdown",
      "metadata": {},
      "source": [
        "Solve the eigenproblem.\n"
      ]
    },
    {
      "cell_type": "code",
      "execution_count": null,
      "metadata": {
        "collapsed": false
      },
      "outputs": [],
      "source": [
        "t3 = time.time()\nvals, vecs = eigsh(A=pK, M=pm, k=10, sigma=1, which=\"LA\")\nt4 = time.time()\nscipy_elapsed_time = t4 - t3\nprint(\"\\nElapsed time to solve this problem : \", scipy_elapsed_time)"
      ]
    },
    {
      "cell_type": "markdown",
      "metadata": {},
      "source": [
        "Convert lambda values to frequency values:\n$freq = \\frac{\\sqrt(\\lambda)}{2.\\pi}$\n"
      ]
    },
    {
      "cell_type": "code",
      "execution_count": null,
      "metadata": {
        "collapsed": false
      },
      "outputs": [],
      "source": [
        "freqs = np.sqrt(vals) / (2 * math.pi)"
      ]
    },
    {
      "cell_type": "markdown",
      "metadata": {},
      "source": [
        "Compute the residual error for SciPy.\n\n$Err=\\frac{||(K-\\lambda.M).\\phi||_2}{||K.\\phi||_2}$\n"
      ]
    },
    {
      "cell_type": "code",
      "execution_count": null,
      "metadata": {
        "collapsed": false
      },
      "outputs": [],
      "source": [
        "scipy_acc = np.zeros(nev)\n\nfor i in range(nev):\n    lam = vals[i]  # i-th eigenvalue\n    phi = vecs.T[i]  # i-th eigenshape\n\n    kphi = pk * phi.T  # K.Phi\n    mphi = pm * phi.T  # M.Phi\n\n    kphi_nrm = np.linalg.norm(kphi, 2)  # Normalization scalar value\n\n    mphi *= lam  # (K-\\lambda.M).Phi\n    kphi -= mphi\n\n    scipy_acc[i] = 1 - np.linalg.norm(kphi, 2) / kphi_nrm  # compute the residual\n    print(f\"[{i}] : Freq = {freqs[i]:8.2f} Hz\\t Residual = {scipy_acc[i]:.5}\")"
      ]
    },
    {
      "cell_type": "markdown",
      "metadata": {},
      "source": [
        "See if PyAnsys Math is more accurate than SciPy\n===============================================\n\nPlot residual error to see if PyAnsys Math is more accurate than SciPy.\n"
      ]
    },
    {
      "cell_type": "code",
      "execution_count": null,
      "metadata": {
        "collapsed": false
      },
      "outputs": [],
      "source": [
        "fig = plt.figure(figsize=(12, 10))\nax = plt.axes()\nx = np.linspace(1, 10, 10)\nplt.title(\"Residual Error\")\nplt.yscale(\"log\")\nplt.xlabel(\"Mode\")\nplt.ylabel(\"% Error\")\nax.bar(x, scipy_acc, label=\"SciPy Results\")\nax.bar(x, pymath_acc, label=\"PyAnsys Math Results\")\nplt.legend(loc=\"lower right\")\nplt.show()"
      ]
    },
    {
      "cell_type": "markdown",
      "metadata": {},
      "source": [
        "See if PyAnsys Math is faster than SciPy\n========================================\n\nPlot elapsed time to see if PyAnsys Math is more accurate than SciPy.\n"
      ]
    },
    {
      "cell_type": "code",
      "execution_count": null,
      "metadata": {
        "collapsed": false
      },
      "outputs": [],
      "source": [
        "ratio = scipy_elapsed_time / pymath_elapsed_time\nprint(f\"PyAnsys Math is {ratio:.3} times faster.\")"
      ]
    },
    {
      "cell_type": "markdown",
      "metadata": {},
      "source": [
        "Stop PyAnsys Math\n=================\n\nStop PyAnsys Math.\n"
      ]
    },
    {
      "cell_type": "code",
      "execution_count": null,
      "metadata": {
        "collapsed": false
      },
      "outputs": [],
      "source": [
        "mm._mapdl.exit()"
      ]
    }
  ],
  "metadata": {
    "kernelspec": {
      "display_name": "Python 3",
      "language": "python",
      "name": "python3"
    },
    "language_info": {
      "codemirror_mode": {
        "name": "ipython",
        "version": 3
      },
      "file_extension": ".py",
      "mimetype": "text/x-python",
      "name": "python",
      "nbconvert_exporter": "python",
      "pygments_lexer": "ipython3",
      "version": "3.10.14"
    }
  },
  "nbformat": 4,
  "nbformat_minor": 0
}