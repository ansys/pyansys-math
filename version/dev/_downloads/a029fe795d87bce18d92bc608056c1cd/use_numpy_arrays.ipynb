{
  "cells": [
    {
      "cell_type": "markdown",
      "metadata": {},
      "source": [
        "Manipulate AnsMath vectors or dense matrices as NumPy arrays\n============================================================\n\nThis example demonstrates how to use NumPy arrays to exchange data\nbetween PyAnsys Math and Python.\n\n::: {.note}\n::: {.title}\nNote\n:::\n\nThis example requires Ansys 2021 R2 or later.\n:::\n"
      ]
    },
    {
      "cell_type": "code",
      "execution_count": null,
      "metadata": {
        "collapsed": false
      },
      "outputs": [],
      "source": [
        "# Perform required imports and start PyAnsys\n# ~~~~~~~~~~~~~~~~~~~~~~~~~~~~~~~~~~~~~~~~~~\n# Perform required imports.\n\nimport matplotlib.pyplot as plt\nimport numpy as np\n\nimport ansys.math.core.math as pymath\n\n# Start PyAnsys Math as a server.\nmm = pymath.AnsMath()"
      ]
    },
    {
      "cell_type": "markdown",
      "metadata": {},
      "source": [
        "Convert AnsMath vector into NumPy array\n=======================================\n\nAllocate an AnsMath vector with 10 doubles.\n"
      ]
    },
    {
      "cell_type": "code",
      "execution_count": null,
      "metadata": {
        "collapsed": false
      },
      "outputs": [],
      "source": [
        "apdl_vec = mm.ones(10)\nprint(apdl_vec)"
      ]
    },
    {
      "cell_type": "markdown",
      "metadata": {},
      "source": [
        "Create a NumPy array from this AnsMath vector.\n\nNote that these are two separate objects. Memory is duplicated.\nModifying one object does not modify its clone.\n"
      ]
    },
    {
      "cell_type": "code",
      "execution_count": null,
      "metadata": {
        "collapsed": false
      },
      "outputs": [],
      "source": [
        "pv = apdl_vec.asarray()\nprint(pv)"
      ]
    },
    {
      "cell_type": "markdown",
      "metadata": {},
      "source": [
        "You can manipulate this NumPy array with all existing NumPy features.\n"
      ]
    },
    {
      "cell_type": "code",
      "execution_count": null,
      "metadata": {
        "collapsed": false
      },
      "outputs": [],
      "source": [
        "pv = (pv + 1) ** 2\nprint(pv)"
      ]
    },
    {
      "cell_type": "markdown",
      "metadata": {},
      "source": [
        "Alternatively, the AnsMath object can be operated on directly with using\nNumPy methods.\n"
      ]
    },
    {
      "cell_type": "code",
      "execution_count": null,
      "metadata": {
        "collapsed": false
      },
      "outputs": [],
      "source": [
        "print(np.max(apdl_vec))\nprint(np.linalg.norm(apdl_vec))"
      ]
    },
    {
      "cell_type": "markdown",
      "metadata": {},
      "source": [
        "Note that some methods have APDL corollaries, and these methods are more\nefficient if performed within PyAnsys Math.\n\nFor example, the norm method can be performed within PyAnsys Math.\n"
      ]
    },
    {
      "cell_type": "code",
      "execution_count": null,
      "metadata": {
        "collapsed": false
      },
      "outputs": [],
      "source": [
        "print(apdl_vec.norm(), np.linalg.norm(apdl_vec))"
      ]
    },
    {
      "cell_type": "markdown",
      "metadata": {},
      "source": [
        "Copy NumPy array to an AnsMath vector\n=====================================\n\nYou can push back any NumPy vector or 2D array to PyAnsys Math. This\ncreates a new AnsMath vector, which in this case is named `\"NewVec:`.\n"
      ]
    },
    {
      "cell_type": "code",
      "execution_count": null,
      "metadata": {
        "collapsed": false
      },
      "outputs": [],
      "source": [
        "mm.set_vec(pv, \"NewVec\")\nprint(mm.status())"
      ]
    },
    {
      "cell_type": "markdown",
      "metadata": {},
      "source": [
        "Create a Python handle to this vector\n=====================================\n\nCreate a Python handle to this vector by specifying its name.\n"
      ]
    },
    {
      "cell_type": "code",
      "execution_count": null,
      "metadata": {
        "collapsed": false
      },
      "outputs": [],
      "source": [
        "v2 = mm.vec(name=\"NewVec\")\nprint(v2)"
      ]
    },
    {
      "cell_type": "markdown",
      "metadata": {},
      "source": [
        "Apply same features to dense arrays\n===================================\n\nYou can apply the same features to dense APDL matrices and NumPy arrays.\n\nAllocate an AnsMath dense matrix.\n"
      ]
    },
    {
      "cell_type": "code",
      "execution_count": null,
      "metadata": {
        "collapsed": false
      },
      "outputs": [],
      "source": [
        "apdl_mat = mm.rand(3, 3)\nplt.imshow(apdl_mat, cmap=\"YlOrBr\")\nplt.colorbar()\nplt.title(\"AnsMath dense matrix\")\nplt.show()"
      ]
    },
    {
      "cell_type": "markdown",
      "metadata": {},
      "source": [
        "Convert the AnsMatch dense matrix to a NumPy array.\n"
      ]
    },
    {
      "cell_type": "code",
      "execution_count": null,
      "metadata": {
        "collapsed": false
      },
      "outputs": [],
      "source": [
        "np_arr = apdl_mat.asarray()\n\nassert np.allclose(apdl_mat, np_arr)\nprint(apdl_mat)\nprint(np_arr)"
      ]
    },
    {
      "cell_type": "markdown",
      "metadata": {},
      "source": [
        "Use the `matrix` method to load the NumPy array to APDL.\n"
      ]
    },
    {
      "cell_type": "code",
      "execution_count": null,
      "metadata": {
        "collapsed": false
      },
      "outputs": [],
      "source": [
        "np_rand = np.random.random((4, 4))\nans_mat = mm.matrix(np_rand)\n\n# Print the autogenerated name of this matrix.\n\nprint(ans_mat.id)"
      ]
    },
    {
      "cell_type": "markdown",
      "metadata": {},
      "source": [
        "Load this matrix from APDL and verify it is identical.\n"
      ]
    },
    {
      "cell_type": "code",
      "execution_count": null,
      "metadata": {
        "collapsed": false
      },
      "outputs": [],
      "source": [
        "from_ans = ans_mat.asarray()\nprint(np.allclose(from_ans, np_rand))"
      ]
    },
    {
      "cell_type": "markdown",
      "metadata": {},
      "source": [
        "Stop PyAnsys Math\n=================\n\nStop PyAnsys Math.\n"
      ]
    },
    {
      "cell_type": "code",
      "execution_count": null,
      "metadata": {
        "collapsed": false
      },
      "outputs": [],
      "source": [
        "mm._mapdl.exit()"
      ]
    }
  ],
  "metadata": {
    "kernelspec": {
      "display_name": "Python 3",
      "language": "python",
      "name": "python3"
    },
    "language_info": {
      "codemirror_mode": {
        "name": "ipython",
        "version": 3
      },
      "file_extension": ".py",
      "mimetype": "text/x-python",
      "name": "python",
      "nbconvert_exporter": "python",
      "pygments_lexer": "ipython3",
      "version": "3.10.14"
    }
  },
  "nbformat": 4,
  "nbformat_minor": 0
}